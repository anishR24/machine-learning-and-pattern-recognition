{
  "cells": [
    {
      "cell_type": "markdown",
      "metadata": {
        "id": "vyigOP5gwepk"
      },
      "source": [
        "# **Named Entity recognition with spaCy**\n",
        "---\n",
        "    Course - B9DA109: Machine Learning and Pattern Recognition\n",
        "---\n",
        "    Group No.3:\n",
        "    20066423 - Anish Rao\n",
        "    20054683 - Adithya Durgapu\n",
        "    20058721 - Phani Sri Pavansai Sharath Chandra Chavali Venkata\n",
        "---\n",
        "### Dataset - [BioCreative-V CDR Corpus](https://github.com/JHnlp/BioCreative-V-CDR-Corpus)\n",
        "---"
      ]
    },
    {
      "cell_type": "markdown",
      "metadata": {
        "id": "QvBwo2-J8ZsI"
      },
      "source": [
        "## **Project Goal & Approach**\n",
        "\n"
      ]
    },
    {
      "cell_type": "markdown",
      "metadata": {
        "id": "LIGY8bEvWfGb"
      },
      "source": [
        "**Goal**:\n",
        "> Develop an NER system capable of identifying entities in biomedical texts using active learning and rule-based techniques.\n",
        "\n",
        "**Approach**:\n",
        "> - Build a custom NLP pipeline using spaCy\n",
        "- Use spaCy’s rule-based matching to create weak labels for training\n",
        "- Apply active learning to prioritize uncertain samples for labeling\n",
        "- Evaluate using precision/recall/F1 on test set"
      ]
    },
    {
      "cell_type": "markdown",
      "metadata": {
        "id": "yHPQc5VY7Fw4"
      },
      "source": [
        "# **Imports**"
      ]
    },
    {
      "cell_type": "code",
      "execution_count": 1,
      "metadata": {
        "colab": {
          "base_uri": "https://localhost:8080/"
        },
        "collapsed": true,
        "id": "g6Ay1BDi_4aj",
        "outputId": "fe70d994-bab2-430c-d620-cfefff8b997c"
      },
      "outputs": [
        {
          "output_type": "stream",
          "name": "stdout",
          "text": [
            "Requirement already satisfied: spacy in /usr/local/lib/python3.11/dist-packages (3.8.4)\n",
            "Requirement already satisfied: spacy-legacy<3.1.0,>=3.0.11 in /usr/local/lib/python3.11/dist-packages (from spacy) (3.0.12)\n",
            "Requirement already satisfied: spacy-loggers<2.0.0,>=1.0.0 in /usr/local/lib/python3.11/dist-packages (from spacy) (1.0.5)\n",
            "Requirement already satisfied: murmurhash<1.1.0,>=0.28.0 in /usr/local/lib/python3.11/dist-packages (from spacy) (1.0.12)\n",
            "Requirement already satisfied: cymem<2.1.0,>=2.0.2 in /usr/local/lib/python3.11/dist-packages (from spacy) (2.0.11)\n",
            "Requirement already satisfied: preshed<3.1.0,>=3.0.2 in /usr/local/lib/python3.11/dist-packages (from spacy) (3.0.9)\n",
            "Requirement already satisfied: thinc<8.4.0,>=8.3.4 in /usr/local/lib/python3.11/dist-packages (from spacy) (8.3.4)\n",
            "Requirement already satisfied: wasabi<1.2.0,>=0.9.1 in /usr/local/lib/python3.11/dist-packages (from spacy) (1.1.3)\n",
            "Requirement already satisfied: srsly<3.0.0,>=2.4.3 in /usr/local/lib/python3.11/dist-packages (from spacy) (2.5.1)\n",
            "Requirement already satisfied: catalogue<2.1.0,>=2.0.6 in /usr/local/lib/python3.11/dist-packages (from spacy) (2.0.10)\n",
            "Requirement already satisfied: weasel<0.5.0,>=0.1.0 in /usr/local/lib/python3.11/dist-packages (from spacy) (0.4.1)\n",
            "Requirement already satisfied: typer<1.0.0,>=0.3.0 in /usr/local/lib/python3.11/dist-packages (from spacy) (0.15.1)\n",
            "Requirement already satisfied: tqdm<5.0.0,>=4.38.0 in /usr/local/lib/python3.11/dist-packages (from spacy) (4.67.1)\n",
            "Requirement already satisfied: numpy>=1.19.0 in /usr/local/lib/python3.11/dist-packages (from spacy) (1.26.4)\n",
            "Requirement already satisfied: requests<3.0.0,>=2.13.0 in /usr/local/lib/python3.11/dist-packages (from spacy) (2.32.3)\n",
            "Requirement already satisfied: pydantic!=1.8,!=1.8.1,<3.0.0,>=1.7.4 in /usr/local/lib/python3.11/dist-packages (from spacy) (2.10.6)\n",
            "Requirement already satisfied: jinja2 in /usr/local/lib/python3.11/dist-packages (from spacy) (3.1.5)\n",
            "Requirement already satisfied: setuptools in /usr/local/lib/python3.11/dist-packages (from spacy) (75.1.0)\n",
            "Requirement already satisfied: packaging>=20.0 in /usr/local/lib/python3.11/dist-packages (from spacy) (24.2)\n",
            "Requirement already satisfied: langcodes<4.0.0,>=3.2.0 in /usr/local/lib/python3.11/dist-packages (from spacy) (3.5.0)\n",
            "Requirement already satisfied: language-data>=1.2 in /usr/local/lib/python3.11/dist-packages (from langcodes<4.0.0,>=3.2.0->spacy) (1.3.0)\n",
            "Requirement already satisfied: annotated-types>=0.6.0 in /usr/local/lib/python3.11/dist-packages (from pydantic!=1.8,!=1.8.1,<3.0.0,>=1.7.4->spacy) (0.7.0)\n",
            "Requirement already satisfied: pydantic-core==2.27.2 in /usr/local/lib/python3.11/dist-packages (from pydantic!=1.8,!=1.8.1,<3.0.0,>=1.7.4->spacy) (2.27.2)\n",
            "Requirement already satisfied: typing-extensions>=4.12.2 in /usr/local/lib/python3.11/dist-packages (from pydantic!=1.8,!=1.8.1,<3.0.0,>=1.7.4->spacy) (4.12.2)\n",
            "Requirement already satisfied: charset-normalizer<4,>=2 in /usr/local/lib/python3.11/dist-packages (from requests<3.0.0,>=2.13.0->spacy) (3.4.1)\n",
            "Requirement already satisfied: idna<4,>=2.5 in /usr/local/lib/python3.11/dist-packages (from requests<3.0.0,>=2.13.0->spacy) (3.10)\n",
            "Requirement already satisfied: urllib3<3,>=1.21.1 in /usr/local/lib/python3.11/dist-packages (from requests<3.0.0,>=2.13.0->spacy) (2.3.0)\n",
            "Requirement already satisfied: certifi>=2017.4.17 in /usr/local/lib/python3.11/dist-packages (from requests<3.0.0,>=2.13.0->spacy) (2025.1.31)\n",
            "Requirement already satisfied: blis<1.3.0,>=1.2.0 in /usr/local/lib/python3.11/dist-packages (from thinc<8.4.0,>=8.3.4->spacy) (1.2.0)\n",
            "Requirement already satisfied: confection<1.0.0,>=0.0.1 in /usr/local/lib/python3.11/dist-packages (from thinc<8.4.0,>=8.3.4->spacy) (0.1.5)\n",
            "Requirement already satisfied: click>=8.0.0 in /usr/local/lib/python3.11/dist-packages (from typer<1.0.0,>=0.3.0->spacy) (8.1.8)\n",
            "Requirement already satisfied: shellingham>=1.3.0 in /usr/local/lib/python3.11/dist-packages (from typer<1.0.0,>=0.3.0->spacy) (1.5.4)\n",
            "Requirement already satisfied: rich>=10.11.0 in /usr/local/lib/python3.11/dist-packages (from typer<1.0.0,>=0.3.0->spacy) (13.9.4)\n",
            "Requirement already satisfied: cloudpathlib<1.0.0,>=0.7.0 in /usr/local/lib/python3.11/dist-packages (from weasel<0.5.0,>=0.1.0->spacy) (0.20.0)\n",
            "Requirement already satisfied: smart-open<8.0.0,>=5.2.1 in /usr/local/lib/python3.11/dist-packages (from weasel<0.5.0,>=0.1.0->spacy) (7.1.0)\n",
            "Requirement already satisfied: MarkupSafe>=2.0 in /usr/local/lib/python3.11/dist-packages (from jinja2->spacy) (3.0.2)\n",
            "Requirement already satisfied: marisa-trie>=1.1.0 in /usr/local/lib/python3.11/dist-packages (from language-data>=1.2->langcodes<4.0.0,>=3.2.0->spacy) (1.2.1)\n",
            "Requirement already satisfied: markdown-it-py>=2.2.0 in /usr/local/lib/python3.11/dist-packages (from rich>=10.11.0->typer<1.0.0,>=0.3.0->spacy) (3.0.0)\n",
            "Requirement already satisfied: pygments<3.0.0,>=2.13.0 in /usr/local/lib/python3.11/dist-packages (from rich>=10.11.0->typer<1.0.0,>=0.3.0->spacy) (2.18.0)\n",
            "Requirement already satisfied: wrapt in /usr/local/lib/python3.11/dist-packages (from smart-open<8.0.0,>=5.2.1->weasel<0.5.0,>=0.1.0->spacy) (1.17.2)\n",
            "Requirement already satisfied: mdurl~=0.1 in /usr/local/lib/python3.11/dist-packages (from markdown-it-py>=2.2.0->rich>=10.11.0->typer<1.0.0,>=0.3.0->spacy) (0.1.2)\n"
          ]
        }
      ],
      "source": [
        "!pip install -U spacy"
      ]
    },
    {
      "cell_type": "code",
      "execution_count": 2,
      "metadata": {
        "id": "0DHCvjp0wgei"
      },
      "outputs": [],
      "source": [
        "import numpy as np\n",
        "import pandas as pd\n",
        "import random\n",
        "import matplotlib.pyplot as plt\n",
        "import seaborn as sns\n",
        "from sklearn.metrics import precision_recall_fscore_support\n",
        "from collections import Counter\n",
        "\n",
        "import spacy\n",
        "from spacy.matcher import Matcher #more flexible than EntityRuler\n",
        "from spacy.scorer import Scorer\n",
        "from spacy.training import Example\n",
        "import spacy.util\n",
        "\n",
        "import warnings\n",
        "\n",
        "# load blank spacy model\n",
        "nlp = spacy.blank(\"en\")"
      ]
    },
    {
      "cell_type": "markdown",
      "metadata": {
        "id": "8fhO-8Mu7Tsm"
      },
      "source": [
        "# **Data Loading & Parsing**"
      ]
    },
    {
      "cell_type": "markdown",
      "metadata": {
        "id": "wkJCMJdWh1Du"
      },
      "source": [
        "## Loading"
      ]
    },
    {
      "cell_type": "code",
      "execution_count": 3,
      "metadata": {
        "colab": {
          "base_uri": "https://localhost:8080/"
        },
        "id": "uSlY_I9U-obt",
        "outputId": "a67a360a-347c-4d4b-bcd8-b832babcfcb7"
      },
      "outputs": [
        {
          "output_type": "stream",
          "name": "stdout",
          "text": [
            "\n",
            "Sample Train Data:\n",
            " ['227508|t|Naloxone reverses the antihypertensive effect of clonidine.\\n', '227508|a|In unanesthetized, spontaneously hypertensive rats the decrease in blood pressure and heart rate produced by intravenous clonidine, 5 to 20 micrograms/kg, was inhibited or reversed by nalozone, 0.2 to 2 mg/kg. The hypotensive effect of 100 mg/kg alpha-methyldopa was also partially reversed by naloxone. Naloxone alone did not affect either blood pressure or heart rate. In brain membranes from spontaneously hypertensive rats clonidine, 10(-8) to 10(-5) M, did not influence stereoselective binding of [3H]-naloxone (8 nM), and naloxone, 10(-8) to 10(-4) M, did not influence clonidine-suppressible binding of [3H]-dihydroergocryptine (1 nM). These findings indicate that in spontaneously hypertensive rats the effects of central alpha-adrenoceptor stimulation involve activation of opiate receptors. As naloxone and clonidine do not appear to interact with the same receptor site, the observed functional antagonism suggests the release of an endogenous opiate by clonidine or alpha-methyldopa and the possible role of the opiate in the central control of sympathetic tone.\\n', '227508\\t0\\t8\\tNaloxone\\tChemical\\tD009270\\n', '227508\\t49\\t58\\tclonidine\\tChemical\\tD003000\\n', '227508\\t93\\t105\\thypertensive\\tDisease\\tD006973\\n', '227508\\t181\\t190\\tclonidine\\tChemical\\tD003000\\n', '227508\\t244\\t252\\tnalozone\\tChemical\\t-1\\n', '227508\\t274\\t285\\thypotensive\\tDisease\\tD007022\\n', '227508\\t306\\t322\\talpha-methyldopa\\tChemical\\tD008750\\n', '227508\\t354\\t362\\tnaloxone\\tChemical\\tD009270\\n']\n"
          ]
        }
      ],
      "source": [
        "train_path = \"CDR_TrainingSet.PubTator.txt\"\n",
        "dev_path = \"CDR_DevelopmentSet.PubTator.txt\"\n",
        "test_path = \"CDR_TestSet.PubTator.txt\"\n",
        "\n",
        "def load_data(path):\n",
        "  \"\"\"\n",
        "  Reads and loads data from given file path.\n",
        "\n",
        "  Args:\n",
        "      path: The file path of the dataset.\n",
        "\n",
        "  Returns:\n",
        "      list: A list containing each line of the file as a string.\n",
        "  \"\"\"\n",
        "  with open(path, 'r', encoding='utf-8') as file:\n",
        "      data = file.readlines()\n",
        "  return data\n",
        "\n",
        "train_data = load_data(train_path)\n",
        "dev_data = load_data(dev_path)\n",
        "test_data = load_data(test_path)\n",
        "\n",
        "print(\"\\nSample Train Data:\\n\", train_data[:10])"
      ]
    },
    {
      "cell_type": "markdown",
      "metadata": {
        "id": "G-ZphaW7cUqQ"
      },
      "source": [
        "## Parsing"
      ]
    },
    {
      "cell_type": "code",
      "execution_count": 4,
      "metadata": {
        "id": "4a1YEHBf6vtg"
      },
      "outputs": [],
      "source": [
        "def parse_data(data):\n",
        "  \"\"\"\n",
        "  Parses PubTator formatted dataset to extract text and entity annotations.\n",
        "\n",
        "  Args:\n",
        "      data: List of lines from the dataset.\n",
        "\n",
        "  Returns:\n",
        "      list: A list of tuples where each tuple contains:\n",
        "            - \"text\": The combined document text (title + abstract).\n",
        "            - \"entities\": A list of entity annotations as tuples\n",
        "                          (start, end, entity_type/label).\n",
        "  \"\"\"\n",
        "  with open(data, 'r', encoding='utf-8') as f:\n",
        "      text = f.read()\n",
        "\n",
        "  docs = []\n",
        "  current = {\"text\": \"\", \"entities\": []}\n",
        "\n",
        "  for line in text.split(\"\\n\"):\n",
        "      if line.startswith(\"#####\"):\n",
        "          continue\n",
        "      if \"|t|\" in line:\n",
        "          current[\"text\"] = line.split(\"|t|\")[-1].strip()\n",
        "      elif \"|a|\" in line:\n",
        "          current[\"text\"] += \" \" + line.split(\"|a|\")[-1].strip()\n",
        "      elif \"\\t\" in line:\n",
        "          parts = line.split(\"\\t\")\n",
        "          if len(parts) >= 5:\n",
        "              start, end, label = int(parts[1]), int(parts[2]), parts[4]\n",
        "              current[\"entities\"].append((start, end, label))\n",
        "      elif line.strip() == \"\" and current[\"text\"]:\n",
        "          docs.append(current)\n",
        "          current = {\"text\": \"\", \"entities\": []}\n",
        "\n",
        "  return docs #(\"Document text\", [(start1, end1, type1), (start2, end2, type2)])\n",
        "\n",
        "train = parse_data(train_path)\n",
        "dev = parse_data(dev_path)\n",
        "test = parse_data(test_path)\n",
        "\n",
        "train_dev = train + dev"
      ]
    },
    {
      "cell_type": "markdown",
      "metadata": {
        "id": "j2DHiZWKh9x4"
      },
      "source": [
        "### Viewing parsed documents"
      ]
    },
    {
      "cell_type": "code",
      "execution_count": 5,
      "metadata": {
        "colab": {
          "base_uri": "https://localhost:8080/"
        },
        "id": "wdqbwf-v8PQ8",
        "outputId": "e80db832-5c48-465c-e155-cbc4fb90c020"
      },
      "outputs": [
        {
          "output_type": "stream",
          "name": "stdout",
          "text": [
            "\n",
            "Sample Parsed Documents:\n",
            "\n",
            "Document 1:\n",
            "Text: Naloxone reverses the antihypertensive effect of clonidine. In unanesthetized, spontaneously hypertensive rats the decrease in blood pressure and heart rate produced by intravenous clonidine, 5 to 20 ...\n",
            "Entities:\n",
            "  - Chemical: 'Naloxone' (Position: 0-8)\n",
            "  - Chemical: 'clonidine' (Position: 49-58)\n",
            "  - Disease: 'hypertensive' (Position: 93-105)\n",
            "  - Chemical: 'clonidine' (Position: 181-190)\n",
            "  - Chemical: 'nalozone' (Position: 244-252)\n",
            "  - Disease: 'hypotensive' (Position: 274-285)\n",
            "  - Chemical: 'alpha-methyldopa' (Position: 306-322)\n",
            "  - Chemical: 'naloxone' (Position: 354-362)\n",
            "  - Chemical: 'Naloxone' (Position: 364-372)\n",
            "  - Disease: 'hypertensive' (Position: 469-481)\n",
            "  - Chemical: 'clonidine' (Position: 487-496)\n",
            "  - Chemical: '[3H]-naloxone' (Position: 563-576)\n",
            "  - Chemical: 'naloxone' (Position: 589-597)\n",
            "  - Chemical: 'clonidine' (Position: 637-646)\n",
            "  - Chemical: '[3H]-dihydroergocryptine' (Position: 671-695)\n",
            "  - Disease: 'hypertensive' (Position: 750-762)\n",
            "  - Chemical: 'naloxone' (Position: 865-873)\n",
            "  - Chemical: 'clonidine' (Position: 878-887)\n",
            "  - Chemical: 'clonidine' (Position: 1026-1035)\n",
            "  - Chemical: 'alpha-methyldopa' (Position: 1039-1055)\n"
          ]
        }
      ],
      "source": [
        "# Display sample parsed documents\n",
        "print(\"\\nSample Parsed Documents:\")\n",
        "for i, doc in enumerate(train_dev[:1]):\n",
        "    print(f\"\\nDocument {i+1}:\")\n",
        "    print(\"Text:\", doc[\"text\"][:200] + \"...\")\n",
        "    print(\"Entities:\")\n",
        "    for start, end, label in doc[\"entities\"]:\n",
        "        entity_text = doc[\"text\"][start:end]\n",
        "        print(f\"  - {label}: '{entity_text}' (Position: {start}-{end})\")"
      ]
    },
    {
      "cell_type": "markdown",
      "metadata": {
        "id": "_bgOCz6X9s56"
      },
      "source": [
        "# **Exploratory Data Analysis (EDA)**"
      ]
    },
    {
      "cell_type": "code",
      "execution_count": 6,
      "metadata": {
        "colab": {
          "base_uri": "https://localhost:8080/",
          "height": 0
        },
        "id": "tS4EsIwy9zKU",
        "outputId": "45c3e738-4f5a-4add-fd12-6fc0de5dc8c7"
      },
      "outputs": [
        {
          "output_type": "stream",
          "name": "stdout",
          "text": [
            "Total number of documents: 1000\n",
            "Average document length (characters): 1299.7\n",
            "Unique Entity Labels and Their Counts:\n",
            "Chemical: 10550\n",
            "Disease: 8426\n",
            "Average number of entities per document: 18.98\n"
          ]
        },
        {
          "output_type": "display_data",
          "data": {
            "text/plain": [
              "<Figure size 800x600 with 1 Axes>"
            ],
            "image/png": "[encoded data removed]"
          },
          "metadata": {}
        },
        {
          "output_type": "stream",
          "name": "stderr",
          "text": [
            "<ipython-input-6-a7b675584ac6>:39: FutureWarning: \n",
            "\n",
            "Passing `palette` without assigning `hue` is deprecated and will be removed in v0.14.0. Assign the `x` variable to `hue` and set `legend=False` for the same effect.\n",
            "\n",
            "  sns.barplot(x=labels, y=counts, palette=\"viridis\")\n"
          ]
        },
        {
          "output_type": "display_data",
          "data": {
            "text/plain": [
              "<Figure size 800x600 with 1 Axes>"
            ],
            "image/png": "[encoded data removed]"
          },
          "metadata": {}
        }
      ],
      "source": [
        "num_docs = len(train_dev)\n",
        "print(\"Total number of documents:\", num_docs)\n",
        "\n",
        "# Number of characters per document\n",
        "doc_lengths = [len(doc[\"text\"]) for doc in train_dev]\n",
        "avg_length = sum(doc_lengths) / num_docs\n",
        "print(\"Average document length (characters):\", round(avg_length, 2))\n",
        "\n",
        "# unique labels and their counts\n",
        "label_counter = Counter(entity[2] for doc in train_dev for entity in doc[\"entities\"])\n",
        "print(\"Unique Entity Labels and Their Counts:\")\n",
        "for label, count in label_counter.items():\n",
        "    print(f\"{label}: {count}\")\n",
        "\n",
        "# Number of entities per document\n",
        "num_entities = [len(doc[\"entities\"]) for doc in train_dev]\n",
        "avg_entities = sum(num_entities) / num_docs\n",
        "print(\"Average number of entities per document:\", round(avg_entities, 2))\n",
        "\n",
        "# Histogram for the distribution of entities per document\n",
        "plt.figure(figsize=(8, 6))\n",
        "sns.histplot(num_entities, bins=20, kde=True, color=\"skyblue\")\n",
        "plt.xlabel(\"Number of Entities per Document\")\n",
        "plt.ylabel(\"Frequency\")\n",
        "plt.title(\"Distribution of Entities per Document\")\n",
        "plt.show()\n",
        "\n",
        "# Frequency distribution of entity labels\n",
        "label_counts = {}\n",
        "for doc in train_dev:\n",
        "    for ent in doc[\"entities\"]:\n",
        "        label = ent[2]\n",
        "        label_counts[label] = label_counts.get(label, 0) + 1\n",
        "\n",
        "# Bar chart for entity label frequencies\n",
        "labels = list(label_counts.keys())\n",
        "counts = list(label_counts.values())\n",
        "plt.figure(figsize=(8, 6))\n",
        "sns.barplot(x=labels, y=counts, palette=\"viridis\")\n",
        "plt.xlabel(\"Entity Label\")\n",
        "plt.ylabel(\"Count\")\n",
        "plt.title(\"Frequency Distribution of Entity Labels\")\n",
        "plt.show()"
      ]
    },
    {
      "cell_type": "markdown",
      "metadata": {
        "id": "_qKNSgmy_zII"
      },
      "source": [
        "# **Defining Rule-Based Matcher**"
      ]
    },
    {
      "cell_type": "code",
      "execution_count": 7,
      "metadata": {
        "id": "BgxY9cVE_yyX"
      },
      "outputs": [],
      "source": [
        "matcher = Matcher(nlp.vocab)\n",
        "\n",
        "chem_patterns = [\n",
        "    [{\"TEXT\": {\"REGEX\": \".*ol$\"}}],\n",
        "    [{\"TEXT\": {\"REGEX\": \".*ine$\"}}],\n",
        "    [{\"TEXT\": {\"REGEX\": \".*ide$\"}}],\n",
        "    [{\"TEXT\": {\"REGEX\": \".*ium$\"}}],\n",
        "    [{\"TEXT\": {\"REGEX\": \".*one$\"}}],\n",
        "    [{\"TEXT\": {\"REGEX\": \".*amine$\"}}],\n",
        "    [{\"TEXT\": {\"REGEX\": \".*ate$\"}}],\n",
        "    [{\"TEXT\": {\"REGEX\": \".*rin$\"}}],\n",
        "    [{\"LOWER\": {\"IN\": [\"acid\", \"salt\"]}}],\n",
        "    [{\"TEXT\": {\"REGEX\": \".*azole$\"}}],\n",
        "    [{\"TEXT\": {\"REGEX\": \".*vir$\"}}],\n",
        "    [{\"TEXT\": {\"REGEX\": \".*dopa$\"}}],\n",
        "    # [{\"TEXT\": {\"REGEX\": \".*mab$\"}}]\n",
        "]\n",
        "\n",
        "disease_patterns = [\n",
        "    [{\"TEXT\": {\"REGEX\": \".*itis$\"}}],\n",
        "    [{\"TEXT\": {\"REGEX\": \".*osis$\"}}],\n",
        "    [{\"TEXT\": {\"REGEX\": \".*emia$\"}}],\n",
        "    [{\"TEXT\": {\"REGEX\": \".*opathy$\"}}],\n",
        "    # [{\"TEXT\": {\"REGEX\": \"^cardiac$\"}}, {\"TEXT\": {\"REGEX\": \"^asystole$\"}}],\n",
        "    [{\"TEXT\": {\"REGEX\": \"^heart$\"}}, {\"TEXT\": {\"REGEX\": \"^attack$\"}}],\n",
        "    [{\"TEXT\": {\"REGEX\": \"^myocardial$\"}}, {\"TEXT\": {\"REGEX\": \"^infarction$\"}}],\n",
        "    [{\"TEXT\": {\"REGEX\": \"^(AD|MS|ALS|HIV|AIDS|COVID)$\"}}],\n",
        "    # [{\"TEXT\": {\"REGEX\": \"^diabetes$\"}}],\n",
        "    [{\"LOWER\": {\"IN\": [\"disease\", \"syndrome\", \"cancer\"]}}],\n",
        "    [{\"LOWER\": {\"IN\": [\"infection\", \"fever\", \"headache\",\n",
        "                       \"tumor\", \"inflammation\"]}}],\n",
        "]\n",
        "\n",
        "matcher.add(\"CHEMICAL\", chem_patterns)\n",
        "matcher.add(\"DISEASE\", disease_patterns)\n",
        "\n",
        "\n",
        "def apply_rules(text):\n",
        "  \"\"\"\n",
        "  Applies the matcher to a text and sets the detected entities.\n",
        "\n",
        "  Args:\n",
        "      text: The input text to annotate.\n",
        "\n",
        "  Returns:\n",
        "      spacy.tokens.Doc: The processed doc with entities set.\n",
        "  \"\"\"\n",
        "  doc = nlp(text)\n",
        "  matches = matcher(doc)\n",
        "  spans = []\n",
        "  for match_id, start, end in matches:\n",
        "      label = nlp.vocab.strings[match_id]\n",
        "      span = spacy.tokens.Span(doc, start, end, label=label)\n",
        "      spans.append(span)\n",
        "  doc.ents = spans\n",
        "  return doc"
      ]
    },
    {
      "cell_type": "code",
      "execution_count": 8,
      "metadata": {
        "colab": {
          "base_uri": "https://localhost:8080/"
        },
        "id": "_yzt878VHxHi",
        "outputId": "67260193-d935-4e82-d69a-109bff63ad4c"
      },
      "outputs": [
        {
          "output_type": "stream",
          "name": "stdout",
          "text": [
            "\n",
            "Matcher Results:\n",
            "naloxone - CHEMICAL\n",
            "clonidine - CHEMICAL\n",
            "Ethanol - CHEMICAL\n",
            "arthritis - DISEASE\n",
            "leukemia - DISEASE\n"
          ]
        }
      ],
      "source": [
        "test_text = \"The patient was administered naloxone and clonidine for cardiac asystole and diabetes. Ethanol is used to treat arthritis and leukemia. Swimming pools\"\n",
        "doc = apply_rules(test_text)\n",
        "\n",
        "matches = matcher(doc)\n",
        "print(\"\\nMatcher Results:\")\n",
        "for match_id, start, end in matches:\n",
        "    print(f\"{doc[start:end].text} - {nlp.vocab.strings[match_id]}\")"
      ]
    },
    {
      "cell_type": "markdown",
      "metadata": {
        "id": "bd9XIHGHDfiS"
      },
      "source": [
        "# **Model Training Method**"
      ]
    },
    {
      "cell_type": "code",
      "execution_count": 9,
      "metadata": {
        "id": "cKG2d9DaDjC7"
      },
      "outputs": [],
      "source": [
        "def train_ner_model(model, data, n_iter=10):\n",
        "  \"\"\"\n",
        "  Trains a custom Named Entity Recognition (NER) model using spaCy.\n",
        "\n",
        "  Args:\n",
        "      model: The spaCy NLP model.\n",
        "      data: list of training examples as dictionary with \"text\" and \"entities\".\n",
        "      n_iter: Number of training iterations (epochs).\n",
        "\n",
        "  Returns:\n",
        "      None\n",
        "  \"\"\"\n",
        "  # Add the NER component if it does not exist in the model\n",
        "  if \"ner\" not in model.pipe_names:\n",
        "      ner = model.add_pipe(\"ner\", last=True)\n",
        "  else:\n",
        "      ner = model.get_pipe(\"ner\")\n",
        "\n",
        "  # Add entity labels to the NER component from the data\n",
        "  for doc_data in data:\n",
        "      for ent in doc_data[\"entities\"]:\n",
        "          label = ent[\"label\"] if isinstance(ent, dict) else ent[2]\n",
        "          try:\n",
        "              ner.add_label(label)\n",
        "          except Exception as e:\n",
        "              pass\n",
        "\n",
        "  # Prepare training examples in spaCy's required format\n",
        "  training_examples = []\n",
        "  for doc_data in data:\n",
        "      text = doc_data[\"text\"]\n",
        "      ents = []\n",
        "      for ent in doc_data[\"entities\"]:\n",
        "          if isinstance(ent, dict):\n",
        "              ents.append((ent[\"start\"], ent[\"end\"], ent[\"label\"]))\n",
        "          else:\n",
        "              ents.append(ent)\n",
        "      annotations = {\"entities\": ents}\n",
        "      training_examples.append(Example.from_dict(model.make_doc(text), annotations))\n",
        "\n",
        "  optimizer = model.begin_training()\n",
        "  for i in range(n_iter):\n",
        "      random.shuffle(training_examples)\n",
        "      losses = {}\n",
        "      batches = spacy.util.minibatch(training_examples, size=4)\n",
        "      for batch in batches:\n",
        "          model.update(batch, drop=0.3, sgd=optimizer, losses=losses)\n",
        "      print(f\"Iteration {i+1}, Loss: {losses.get('ner', 0):.4f}\")\n",
        "\n",
        "  print(\"\\nModel Training Completed!\")"
      ]
    },
    {
      "cell_type": "markdown",
      "metadata": {
        "id": "t7bW9bHmhMkd"
      },
      "source": [
        "# **Uncertainty Sampling & Active Learning**"
      ]
    },
    {
      "cell_type": "code",
      "execution_count": 10,
      "metadata": {
        "id": "X4xiSqSnJ9ZT"
      },
      "outputs": [],
      "source": [
        "def uncertainty_sampling(model, data, n_samples=5):\n",
        "  \"\"\"\n",
        "  Uncertainty sampling by scoring documents based on the\n",
        "  inverse number of entities detected.\n",
        "\n",
        "  Args:\n",
        "      model: The trained spaCy model.\n",
        "      data: List of document dictionaries with \"text\" and \"entities\".\n",
        "      n_samples: Number of samples to select based on uncertainty.\n",
        "\n",
        "  Returns:\n",
        "      list: A list of selected text samples with the highest uncertainty.\n",
        "  \"\"\"\n",
        "  scored_samples = []\n",
        "  for doc_data in data:\n",
        "      text = doc_data[\"text\"]\n",
        "      doc = model(text)\n",
        "      if len(doc.ents) == 0:\n",
        "          uncertainty_score = 1.0\n",
        "      else:\n",
        "          uncertainty_score = 1.0 / len(doc.ents)\n",
        "      scored_samples.append((text, uncertainty_score))\n",
        "\n",
        "  # Sort documents by uncertainty score in descending order\n",
        "  scored_samples.sort(key=lambda x: x[1], reverse=True)\n",
        "  return [sample[0] for sample in scored_samples[:n_samples]]\n",
        "\n",
        "\n",
        "\n",
        "def manual_annotation(text):\n",
        "  \"\"\"\n",
        "  Applying the matcher to the text.\n",
        "\n",
        "  Args:\n",
        "      text: The input text to annotate.\n",
        "\n",
        "  Returns:\n",
        "      list: A list of dictionaries with keys\n",
        "            \"start\", \"end\", and \"label\" for each detected entity.\n",
        "  \"\"\"\n",
        "  doc = apply_rules(text)\n",
        "  return [{\"start\": ent.start_char, \"end\": ent.end_char, \"label\": ent.label_}\n",
        "          for ent in doc.ents]\n",
        "\n",
        "def active_learning_loop(model, data, iterations=3, n_samples=5):\n",
        "  \"\"\"\n",
        "  Runs an active learning loop to iteratively improve the model.\n",
        "\n",
        "  Args:\n",
        "      model: The spaCy NLP model.\n",
        "      data: The training data (list of document dictionaries).\n",
        "      iterations: Number of active learning iterations.\n",
        "      n_samples: Number of uncertain samples to select in each iteration.\n",
        "\n",
        "  Returns:\n",
        "      None: The function updates the model and data in place.\n",
        "  \"\"\"\n",
        "  for i in range(iterations):\n",
        "    print(f\"\\nActive Learning Iteration {i+1}/{iterations}\")\n",
        "    # If not the first iteration, load the model from the previous iteration\n",
        "    if i > 0:\n",
        "        model = spacy.load(f\"model_iteration_{i}\")\n",
        "\n",
        "    # Select uncertain samples from the data based on uncertainty sampling\n",
        "    selected_texts = uncertainty_sampling(model, data, n_samples)\n",
        "    print(\"Selected uncertain samples for annotation:\")\n",
        "    for text in selected_texts:\n",
        "        print(\"  -\", text[:150] + \"...\")\n",
        "\n",
        "    # Annotate the selected samples using manual_annotation\n",
        "    new_annotations = []\n",
        "    for text in selected_texts:\n",
        "        annotated_entities = manual_annotation(text)\n",
        "        new_annotations.append({\"text\": text, \"entities\": annotated_entities})\n",
        "\n",
        "    # Update the training data with these new annotations\n",
        "    data.extend(new_annotations)\n",
        "    print(\"New annotations added.\")\n",
        "\n",
        "    # Retrain the model with the updated data\n",
        "    train_ner_model(model, data, n_iter=10)\n",
        "    model_path = f\"model_iteration_{i+1}\"\n",
        "    model.to_disk(model_path)\n",
        "\n",
        "  print(\"\\nActive Learning Loop Completed!\")"
      ]
    },
    {
      "cell_type": "markdown",
      "metadata": {
        "id": "5xCRw-BVEcPg"
      },
      "source": [
        "## Execution"
      ]
    },
    {
      "cell_type": "code",
      "execution_count": 11,
      "metadata": {
        "id": "lVRQo2drEhBR"
      },
      "outputs": [],
      "source": [
        "warnings.filterwarnings('ignore')"
      ]
    },
    {
      "cell_type": "code",
      "execution_count": 12,
      "metadata": {
        "colab": {
          "base_uri": "https://localhost:8080/"
        },
        "id": "mXmDbLDzhcjF",
        "outputId": "67485076-89a6-4a0a-cda0-c3dc0f541878"
      },
      "outputs": [
        {
          "output_type": "stream",
          "name": "stdout",
          "text": [
            "\n",
            "Active Learning Iteration 1/3\n",
            "Selected uncertain samples for annotation:\n",
            "  - Naloxone reverses the antihypertensive effect of clonidine. In unanesthetized, spontaneously hypertensive rats the decrease in blood pressure and hear...\n",
            "  - Lidocaine-induced cardiac asystole. Intravenous administration of a single 50-mg bolus of lidocaine in a 67-year-old man resulted in profound depressi...\n",
            "  - Suxamethonium infusion rate and observed fasciculations. A dose-response study. Suxamethonium chloride (Sch) was administered i.v. to 36 adult males a...\n",
            "  - Galanthamine hydrobromide, a longer acting anticholinesterase drug, in the treatment of the central effects of scopolamine (Hyoscine). Galanthamine hy...\n",
            "  - Effects of uninephrectomy and high protein feeding on lithium-induced chronic renal failure in rats. Rats with lithium-induced nephropathy were subjec...\n",
            "New annotations added.\n",
            "Iteration 1, Loss: 31886.8305\n",
            "Iteration 2, Loss: 13604.3172\n",
            "Iteration 3, Loss: 10283.5952\n",
            "Iteration 4, Loss: 8439.4638\n",
            "Iteration 5, Loss: 7181.5750\n",
            "Iteration 6, Loss: 6216.4335\n",
            "Iteration 7, Loss: 5644.1655\n",
            "Iteration 8, Loss: 5074.4248\n",
            "Iteration 9, Loss: 4835.7976\n",
            "Iteration 10, Loss: 4482.7004\n",
            "\n",
            "Model Training Completed!\n",
            "\n",
            "Active Learning Iteration 2/3\n",
            "Selected uncertain samples for annotation:\n",
            "  - Magnetic resonance imaging of cerebral venous thrombosis secondary to \"low-dose\" birth control pills. The clinical and radiographic features of cerebr...\n",
            "  - Influence of smoking on developing cochlea. Does smoking during pregnancy affect the amplitudes of transient evoked otoacoustic emissions in newborns?...\n",
            "  - The site of common side effects of sumatriptan. Atypical sensations following the use of subcutaneous sumatriptan are common, but of uncertain origin....\n",
            "  - Obsolete but dangerous antacid preparations. One case of acute hypercalcaemia and two of recurrent nephrolithiasis are reported in patients who had re...\n",
            "  - Caffeine-induced cardiac arrhythmia: an unrecognised danger of healthfood products. We describe a 25-year-old woman with pre-existing mitral valve pro...\n",
            "New annotations added.\n",
            "Iteration 1, Loss: 30191.2150\n",
            "Iteration 2, Loss: 14208.9577\n",
            "Iteration 3, Loss: 10497.0002\n",
            "Iteration 4, Loss: 8400.7450\n",
            "Iteration 5, Loss: 7291.1868\n",
            "Iteration 6, Loss: 6358.6570\n",
            "Iteration 7, Loss: 5713.2662\n",
            "Iteration 8, Loss: 5186.4756\n",
            "Iteration 9, Loss: 4952.8438\n",
            "Iteration 10, Loss: 4663.8008\n",
            "\n",
            "Model Training Completed!\n",
            "\n",
            "Active Learning Iteration 3/3\n",
            "Selected uncertain samples for annotation:\n",
            "  - The site of common side effects of sumatriptan. Atypical sensations following the use of subcutaneous sumatriptan are common, but of uncertain origin....\n",
            "  - The site of common side effects of sumatriptan. Atypical sensations following the use of subcutaneous sumatriptan are common, but of uncertain origin....\n",
            "  - Influence of smoking on developing cochlea. Does smoking during pregnancy affect the amplitudes of transient evoked otoacoustic emissions in newborns?...\n",
            "  - Magnetic resonance imaging of cerebral venous thrombosis secondary to \"low-dose\" birth control pills. The clinical and radiographic features of cerebr...\n",
            "  - Magnetic resonance imaging of cerebral venous thrombosis secondary to \"low-dose\" birth control pills. The clinical and radiographic features of cerebr...\n",
            "New annotations added.\n",
            "Iteration 1, Loss: 29064.0555\n",
            "Iteration 2, Loss: 13726.5683\n",
            "Iteration 3, Loss: 10259.4369\n",
            "Iteration 4, Loss: 8130.4759\n",
            "Iteration 5, Loss: 7310.0386\n",
            "Iteration 6, Loss: 6219.6158\n",
            "Iteration 7, Loss: 5678.4299\n",
            "Iteration 8, Loss: 5315.8102\n",
            "Iteration 9, Loss: 4794.1348\n",
            "Iteration 10, Loss: 4569.0050\n",
            "\n",
            "Model Training Completed!\n",
            "\n",
            "Active Learning Loop Completed!\n"
          ]
        }
      ],
      "source": [
        "nlp.initialize()\n",
        "active_learning_loop(nlp, train_dev, iterations=3, n_samples=5)"
      ]
    },
    {
      "cell_type": "markdown",
      "metadata": {
        "id": "cSEZhL0bEh6k"
      },
      "source": [
        "# **Evaluation Metrics**"
      ]
    },
    {
      "cell_type": "code",
      "execution_count": 13,
      "metadata": {
        "id": "MV56zohjEn9d"
      },
      "outputs": [],
      "source": [
        "def evaluate_model(model, test_data):\n",
        "  \"\"\"\n",
        "  Evaluates the trained NER model on the test data.\n",
        "\n",
        "  Args:\n",
        "      model: The trained spaCy model.\n",
        "      test_data: The test data, a list of document dictionaries.\n",
        "\n",
        "  Returns:\n",
        "      tuple: A tuple containing precision, recall, and F1-score.\n",
        "  \"\"\"\n",
        "  y_true, y_pred = [], []\n",
        "\n",
        "  for doc_data in test_data:\n",
        "      text = doc_data[\"text\"]\n",
        "      # Create a set of gold standard entities from the test data\n",
        "      gold_entities = {(start, end, label) for start, end, label\n",
        "                       in doc_data[\"entities\"]}\n",
        "\n",
        "      doc = model(text)\n",
        "      # Create a set of entities predicted by the model\n",
        "      predicted_entities = {(ent.start_char, ent.end_char, ent.label_) for ent in doc.ents}\n",
        "\n",
        "      # Track all possible labels\n",
        "      all_labels = set([ent[2] for ent in gold_entities]).union(set([ent[2] for ent in predicted_entities]))\n",
        "\n",
        "      # For each label, calculate true positives, false positives, and false negatives\n",
        "      for label in all_labels:\n",
        "          tp = len([e for e in gold_entities if e in predicted_entities and e[2] == label])\n",
        "          fp = len([e for e in predicted_entities if e not in gold_entities and e[2] == label])\n",
        "          fn = len([e for e in gold_entities if e not in predicted_entities and e[2] == label])\n",
        "\n",
        "          y_true.extend([label]*tp) # True positives: correct predictions\n",
        "          y_pred.extend([label]*tp)\n",
        "\n",
        "          y_true.extend([label]*fn) # False negatives: missing predictions\n",
        "          y_pred.extend([\"O\"]*fn)\n",
        "\n",
        "          y_true.extend([\"O\"]*fp) # False positives: extra predictions\n",
        "          y_pred.extend([label]*fp)\n",
        "\n",
        "  # Use micro average for entity-level metrics\n",
        "  precision, recall, f1, _ = precision_recall_fscore_support(\n",
        "      y_true, y_pred, average=\"micro\", labels=list(set(y_true) - {\"O\"})\n",
        "      )\n",
        "  print(f\"Precision: {precision:.4f}, Recall: {recall:.4f}, F1-Score: {f1:.4f}\")\n",
        "  return precision, recall, f1"
      ]
    },
    {
      "cell_type": "markdown",
      "metadata": {
        "id": "RPWenUBSkscs"
      },
      "source": [
        "# Execution"
      ]
    },
    {
      "cell_type": "code",
      "execution_count": 14,
      "metadata": {
        "colab": {
          "base_uri": "https://localhost:8080/"
        },
        "id": "sBhPuWz4Sjmr",
        "outputId": "f5b6c928-87cb-448f-e7f5-f18291035866"
      },
      "outputs": [
        {
          "output_type": "stream",
          "name": "stdout",
          "text": [
            "Precision: 0.8484, Recall: 0.8049, F1-Score: 0.8261\n"
          ]
        },
        {
          "output_type": "execute_result",
          "data": {
            "text/plain": [
              "(0.8483773909305824, 0.8048730757467631, 0.8260528380852733)"
            ]
          },
          "metadata": {},
          "execution_count": 14
        }
      ],
      "source": [
        "evaluate_model(nlp, test)"
      ]
    },
    {
      "cell_type": "markdown",
      "metadata": {
        "id": "W7HypvBXhsZv"
      },
      "source": [
        "# **Conclusion:**\n",
        "**Precision: 0.8484**\n",
        "\n",
        "When the model predicts an entity, there is about an 85% chance that the prediction is correct.\n",
        "\n",
        "---\n",
        "**Recall: 0.8049**\n",
        "\n",
        "The model successfully identifies about 80% of the actual entities present in the text.\n",
        "\n",
        "Roughly 20% of the true entities are being missed.\n",
        "\n",
        "---\n",
        "**F1-Score: 0.8261**\n",
        "\n",
        "The F1-score is around 83%, reflecting a strong balance between prediction accuracy (precision) and entity capture (recall).\n"
      ]
    }
  ],
  "metadata": {
    "colab": {
      "provenance": [],
      "collapsed_sections": [
        "yHPQc5VY7Fw4",
        "8fhO-8Mu7Tsm",
        "_bgOCz6X9s56",
        "_qKNSgmy_zII",
        "cSEZhL0bEh6k"
      ]
    },
    "kernelspec": {
      "display_name": "Python 3",
      "name": "python3"
    },
    "language_info": {
      "name": "python"
    }
  },
  "nbformat": 4,
  "nbformat_minor": 0
}