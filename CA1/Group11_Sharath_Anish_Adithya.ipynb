{
  "cells": [
    {
      "cell_type": "markdown",
      "metadata": {
        "id": "vyigOP5gwepk"
      },
      "source": [
        "# **Named Entity recognition with spaCy**\n",
        "---\n",
        "    Course - B9DA109: Machine Learning and Pattern Recognition\n",
        "---\n",
        "    Group Members:\n",
        "    20066423 - Anish Rao\n",
        "    20054683 - Adithya Durgapu\n",
        "    20058721 - Phani Sri Pavansai Sharath Chandra Chavali Venkata\n",
        "---\n",
        "### Dataset - [BioCreative-V CDR Corpus](https://github.com/JHnlp/BioCreative-V-CDR-Corpus)\n",
        "---\n",
        "### Colab link - [Google Colab](https://colab.research.google.com/drive/1jZwS7BOgqTvIzTqZh6f3x4iyR4-mKNLQ?usp=sharing)\n",
        "---"
      ]
    },
    {
      "cell_type": "markdown",
      "source": [
        "## **Project Overview: Goal & Approach**"
      ],
      "metadata": {
        "id": "vAm2x5Yyl7L1"
      }
    },
    {
      "cell_type": "markdown",
      "metadata": {
        "id": "LIGY8bEvWfGb"
      },
      "source": [
        "**Goal**:\n",
        "> Our aim is to build a Named Entity Recognition (NER) system for identifying chemical and disease entities in biomedical text By combining rule-based techniques with active learning, we want to achieve good performance while keeping manual annotation to a minimum.\n",
        "\n",
        "**Approach**:\n",
        "> - Build a custom NLP pipeline using spaCy\n",
        "- Use spaCy’s rule-based matching to create weak labels for for chemical and disease entities\n",
        "- Apply uncertainty sampling to identify uncertain predictions, prioritizing them for manual annotation to improve model accuracy.\n",
        "- Train a blank spaCy model iteratively using minibatch training, refining entity recognition over multiple active learning cycles.\n",
        "- Evaluate model performance using:\n",
        " - Precision (how many detected entities are correct?)\n",
        " - Recall (how many actual entities were successfully identified?)\n",
        " - F1-score (the harmonic mean of precision and recall, ensuring balanced performance evaluation)."
      ]
    },
    {
      "cell_type": "markdown",
      "metadata": {
        "id": "yHPQc5VY7Fw4"
      },
      "source": [
        "# **Importing Libraries & Initializing spaCy Model**"
      ]
    },
    {
      "cell_type": "code",
      "execution_count": null,
      "metadata": {
        "collapsed": true,
        "id": "g6Ay1BDi_4aj"
      },
      "outputs": [],
      "source": [
        "# !pip install -U spacy"
      ]
    },
    {
      "cell_type": "code",
      "execution_count": 8,
      "metadata": {
        "id": "0DHCvjp0wgei"
      },
      "outputs": [],
      "source": [
        "import spacy\n",
        "from spacy.matcher import Matcher\n",
        "from spacy.training import Example\n",
        "import random\n",
        "import warnings\n",
        "import spacy.util\n",
        "from sklearn.metrics import precision_recall_fscore_support\n",
        "import matplotlib.pyplot as plt\n",
        "import numpy as np\n",
        "import seaborn as sns\n",
        "from collections import Counter\n",
        "\n",
        "# load blank spacy model\n",
        "nlp = spacy.blank(\"en\")\n",
        "\n",
        "warnings.filterwarnings('ignore')"
      ]
    },
    {
      "cell_type": "markdown",
      "metadata": {
        "id": "8fhO-8Mu7Tsm"
      },
      "source": [
        "# **Loading & Parsing PubTator Datag**"
      ]
    },
    {
      "cell_type": "code",
      "execution_count": 6,
      "metadata": {
        "id": "wdqbwf-v8PQ8"
      },
      "outputs": [],
      "source": [
        "def parse_data(file_path, remove_gold=False):\n",
        "    \"\"\"\n",
        "    Parses a PubTator file to extract the combined text (title + abstract)\n",
        "    Optionally, the entity annotations.\n",
        "\n",
        "    Args:\n",
        "        file_path (str): Path to the PubTator file.\n",
        "        remove_gold (bool): If True, ignore entity annotations\n",
        "                            If False, keep entity annotations\n",
        "\n",
        "    Returns:\n",
        "        list: A list of dictionaries, each containing:\n",
        "              -> \"text\": The combined document text.\n",
        "              -> \"entities\": A list of tuples (start, end, label)\n",
        "                            if remove_gold is False, otherwise an empty list.\n",
        "    \"\"\"\n",
        "    with open(file_path, 'r', encoding='utf-8') as f:\n",
        "        data = f.read()\n",
        "\n",
        "    docs = []\n",
        "    current = {\"text\": \"\", \"entities\": []}\n",
        "\n",
        "    for line in data.split(\"\\n\"):\n",
        "        if line.startswith(\"#####\"):\n",
        "            continue\n",
        "        if \"|t|\" in line:\n",
        "            # Title\n",
        "            current[\"text\"] = line.split(\"|t|\")[-1].strip()\n",
        "        elif \"|a|\" in line:\n",
        "            # Append Abstract\n",
        "            current[\"text\"] += \" \" + line.split(\"|a|\")[-1].strip()\n",
        "        elif \"\\t\" in line and not remove_gold:\n",
        "            # Parse annotations only for Test set.\n",
        "            parts = line.split(\"\\t\")\n",
        "            if len(parts) >= 5:\n",
        "                try:\n",
        "                    start, end, label = int(parts[1]), int(parts[2]), parts[4]\n",
        "                except ValueError:\n",
        "                    continue\n",
        "                current[\"entities\"].append((start, end, label))\n",
        "        elif line.strip() == \"\" and current[\"text\"]:\n",
        "            # End of a document; add it to our list.\n",
        "            docs.append(current)\n",
        "            current = {\"text\": \"\", \"entities\": []}\n",
        "\n",
        "    if current[\"text\"]:\n",
        "        docs.append(current)\n",
        "    return docs\n",
        "\n",
        "train_path = \"CDR_TrainingSet.PubTator.txt\"\n",
        "dev_path   = \"CDR_DevelopmentSet.PubTator.txt\"\n",
        "test_path  = \"CDR_TestSet.PubTator.txt\"\n",
        "\n",
        "# Parse the files:\n",
        "train = parse_data(train_path, remove_gold=True)\n",
        "dev = parse_data(dev_path, remove_gold=True)\n",
        "test = parse_data(test_path, remove_gold=False)\n",
        "\n",
        "train_dev = train + dev"
      ]
    },
    {
      "cell_type": "code",
      "source": [
        "# Test prints: print a sample from the parsed datasets.\n",
        "print(\"Combined Train+Dev Sample:\")\n",
        "if train_dev:\n",
        "    print(train_dev[0])\n",
        "else:\n",
        "    print(\"No documents found.\")\n",
        "print(\"=\" * 40)\n",
        "print(\"Test Set Sample (with gold annotations):\")\n",
        "if test:\n",
        "    print(test[0])\n",
        "else:\n",
        "    print(\"No documents found.\")"
      ],
      "metadata": {
        "colab": {
          "base_uri": "https://localhost:8080/"
        },
        "id": "AiljxR4GNDkh",
        "outputId": "d73cb1b8-dc92-4add-f68c-0eaba526179f"
      },
      "execution_count": null,
      "outputs": [
        {
          "output_type": "stream",
          "name": "stdout",
          "text": [
            "Combined Train+Dev Sample:\n",
            "{'text': 'Naloxone reverses the antihypertensive effect of clonidine. In unanesthetized, spontaneously hypertensive rats the decrease in blood pressure and heart rate produced by intravenous clonidine, 5 to 20 micrograms/kg, was inhibited or reversed by nalozone, 0.2 to 2 mg/kg. The hypotensive effect of 100 mg/kg alpha-methyldopa was also partially reversed by naloxone. Naloxone alone did not affect either blood pressure or heart rate. In brain membranes from spontaneously hypertensive rats clonidine, 10(-8) to 10(-5) M, did not influence stereoselective binding of [3H]-naloxone (8 nM), and naloxone, 10(-8) to 10(-4) M, did not influence clonidine-suppressible binding of [3H]-dihydroergocryptine (1 nM). These findings indicate that in spontaneously hypertensive rats the effects of central alpha-adrenoceptor stimulation involve activation of opiate receptors. As naloxone and clonidine do not appear to interact with the same receptor site, the observed functional antagonism suggests the release of an endogenous opiate by clonidine or alpha-methyldopa and the possible role of the opiate in the central control of sympathetic tone.', 'entities': []}\n",
            "========================================\n",
            "Test Set Sample (with gold annotations):\n",
            "{'text': 'Famotidine-associated delirium. A series of six cases. Famotidine is a histamine H2-receptor antagonist used in inpatient settings for prevention of stress ulcers and is showing increasing popularity because of its low cost. Although all of the currently available H2-receptor antagonists have shown the propensity to cause delirium, only two previously reported cases have been associated with famotidine. The authors report on six cases of famotidine-associated delirium in hospitalized patients who cleared completely upon removal of famotidine. The pharmacokinetics of famotidine are reviewed, with no change in its metabolism in the elderly population seen. The implications of using famotidine in elderly persons are discussed.', 'entities': [(0, 10, 'Chemical'), (22, 30, 'Disease'), (55, 65, 'Chemical'), (156, 162, 'Disease'), (324, 332, 'Disease'), (395, 405, 'Chemical'), (442, 452, 'Chemical'), (464, 472, 'Disease'), (537, 547, 'Chemical'), (573, 583, 'Chemical'), (689, 699, 'Chemical')]}\n"
          ]
        }
      ]
    },
    {
      "cell_type": "markdown",
      "source": [
        "# **Exploratory Data Analysis (EDA)**\n",
        "for Train + Dev sets"
      ],
      "metadata": {
        "id": "EGsE25YxtkFM"
      }
    },
    {
      "cell_type": "code",
      "source": [
        "train_eda = parse_data(train_path, remove_gold=False)\n",
        "dev_eda = parse_data(dev_path, remove_gold=False)\n",
        "combined_eda_set = train_eda + dev_eda\n",
        "num_docs = len(combined_eda_set)\n",
        "print(\"Total number of documents:\", num_docs)\n",
        "\n",
        "# Number of characters per document\n",
        "doc_lengths = [len(doc[\"text\"]) for doc in combined_eda_set]\n",
        "avg_length = sum(doc_lengths) / num_docs\n",
        "print(\"Average document length (characters):\", round(avg_length, 2))\n",
        "\n",
        "# unique labels and their counts\n",
        "label_counter = Counter(entity[2] for doc in combined_eda_set for entity in doc[\"entities\"])\n",
        "print(\"Unique Entity Labels and Their Counts:\")\n",
        "for label, count in label_counter.items():\n",
        "    print(f\"{label}: {count}\")\n",
        "\n",
        "# Number of entities per document\n",
        "num_entities = [len(doc[\"entities\"]) for doc in combined_eda_set]\n",
        "avg_entities = sum(num_entities) / num_docs\n",
        "print(\"Average number of entities per document:\", round(avg_entities, 2))"
      ],
      "metadata": {
        "id": "lEBuFVYxwTWl",
        "outputId": "170e2407-6718-4a61-9419-7fdb56f15ea9",
        "colab": {
          "base_uri": "https://localhost:8080/"
        }
      },
      "execution_count": 10,
      "outputs": [
        {
          "output_type": "stream",
          "name": "stdout",
          "text": [
            "Total number of documents: 1000\n",
            "Average document length (characters): 1299.7\n",
            "Unique Entity Labels and Their Counts:\n",
            "Chemical: 10550\n",
            "Disease: 8426\n",
            "Average number of entities per document: 18.98\n"
          ]
        }
      ]
    },
    {
      "cell_type": "code",
      "source": [
        "# Distribution of entities per document\n",
        "plt.figure(figsize=(8, 6))\n",
        "sns.histplot(num_entities, bins=20, kde=True, color=\"skyblue\")\n",
        "plt.xlabel(\"Number of Entities per Document\")\n",
        "plt.ylabel(\"Frequency\")\n",
        "plt.title(\"Distribution of Entities per Document\")\n",
        "plt.show()\n",
        "\n",
        "# Bar chart for entity label frequencies\n",
        "label_counts = {}\n",
        "for doc in combined_eda_set:\n",
        "    for ent in doc[\"entities\"]:\n",
        "        label = ent[2]\n",
        "        label_counts[label] = label_counts.get(label, 0) + 1\n",
        "labels = list(label_counts.keys())\n",
        "counts = list(label_counts.values())\n",
        "plt.figure(figsize=(8, 6))\n",
        "sns.barplot(x=labels, y=counts, palette=\"viridis\")\n",
        "plt.xlabel(\"Entity Label\")\n",
        "plt.ylabel(\"Count\")\n",
        "plt.title(\"Frequency Distribution of Entity Labels\")\n",
        "plt.show()"
      ],
      "metadata": {
        "colab": {
          "base_uri": "https://localhost:8080/",
          "height": 1000
        },
        "id": "C_Z3Q7fAtkmS",
        "outputId": "042c379b-b2ab-4993-d3d6-5f691b563038"
      },
      "execution_count": 11,
      "outputs": [
        {
          "output_type": "display_data",
          "data": {
            "text/plain": [
              "<Figure size 800x600 with 1 Axes>"
            ],
            "image/png": "[encoded data removed]"
          },
          "metadata": {}
        },
        {
          "output_type": "display_data",
          "data": {
            "text/plain": [
              "<Figure size 800x600 with 1 Axes>"
            ],
            "image/png": "[encoded data removed]"
          },
          "metadata": {}
        }
      ]
    },
    {
      "cell_type": "markdown",
      "metadata": {
        "id": "_qKNSgmy_zII"
      },
      "source": [
        "# **Rule-Based Matching for Entity Annotation**"
      ]
    },
    {
      "cell_type": "code",
      "execution_count": null,
      "metadata": {
        "id": "BgxY9cVE_yyX"
      },
      "outputs": [],
      "source": [
        "matcher = Matcher(nlp.vocab)\n",
        "\n",
        "chem_patterns = [\n",
        "    [{\"LOWER\": {\"REGEX\": \"^[a-z0-9-]+(ol|ine|ide|one|ate|amine|azole|vir|dopa|mab|statin|pril|sartan|rin)$\"}}],\n",
        "    [{\"LOWER\": {\"REGEX\": \"^(?:cyclo|benz|ethyl|methyl|hydro)[a-z0-9-]*$\"}}],\n",
        "    [{\"LOWER\": {\"IN\": [\"insulin\", \"penicillin\"]}}],\n",
        "    [\n",
        "        {\"LOWER\": {\"REGEX\": \"^[a-z0-9-]+$\"}, \"OP\": \"+\"},\n",
        "        {\"LOWER\": \"acid\"}\n",
        "    ],\n",
        "    [\n",
        "        {\"LOWER\": {\"REGEX\": \"^[a-z0-9-]+$\"}},\n",
        "        {\"LOWER\": {\"REGEX\": \"^(chloride|sulfate|sulphate|oxide|nitrate)$\"}}\n",
        "    ],\n",
        "    [\n",
        "        {\"LOWER\": {\"REGEX\": \"^[a-z0-9-]+$\"}, \"OP\": \"+\"},\n",
        "        {\"LOWER\": {\"REGEX\": \"^(inhibitor|inhibitors|blocker|blockers|antagonist|agonist)$\"}}\n",
        "    ]\n",
        "]\n",
        "\n",
        "disease_patterns = [\n",
        "    [{\"LOWER\": {\"REGEX\": \"^[a-z]+(itis|osis|emia|pathy|oma|algia|penia|dystrophy|sclerosis|necrosis|lepsy)$\"}}],\n",
        "    [{\"LOWER\": {\"IN\": [\n",
        "        \"hypertensive\", \"hypotensive\", \"cancer\", \"tumor\", \"tumour\",\n",
        "        \"diabetes\", \"malaria\", \"syndrome\", \"delirium\", \"migraine\"\n",
        "    ]}}],\n",
        "    [{\"TEXT\": {\"REGEX\": \".*opathy$\"}}],\n",
        "    [\n",
        "        {\"LOWER\": {\"REGEX\": \"^[a-z]+$\"}, \"OP\": \"+\"},\n",
        "        {\"LOWER\": {\"REGEX\": \"^(disease|syndrome|cancer|tumor|tumour)$\"}}\n",
        "    ],\n",
        "    [\n",
        "        {\"LOWER\": {\"REGEX\": \"^[a-z]+$\"}},\n",
        "        {\"LOWER\": \"'s\", \"OP\": \"?\"},\n",
        "        {\"LOWER\": {\"REGEX\": \"^(disease|syndrome)$\"}}\n",
        "    ],\n",
        "    [{\"TEXT\": {\"REGEX\": \"^cardiac$\"}}, {\"TEXT\": {\"REGEX\": \"^(arrest|asystole)$\"}}],\n",
        "    [{\"TEXT\": {\"REGEX\": \"^heart$\"}}, {\"TEXT\": {\"REGEX\": \"^attack$\"}}],\n",
        "    [{\"TEXT\": {\"REGEX\": \"^myocardial$\"}}, {\"TEXT\": {\"REGEX\": \"^infarction$\"}}],\n",
        "    [{\"LOWER\": {\"IN\": [\n",
        "        \"dystonia\", \"dyskinesia\", \"neuropathy\", \"fasciculation\", \"fasciculations\",\n",
        "        \"hypertension\", \"myocardial infarction\", \"chronic renal failure\", \"crohn's disease\",\n",
        "        \"infection\", \"fever\", \"headache\", \"inflammation\", \"stroke\", \"sepsis\", \"anemia\"\n",
        "    ]}}],\n",
        "    [\n",
        "        {\"LOWER\": {\"REGEX\": \"^(acute|chronic|severe|idiopathic)$\"}, \"OP\": \"?\"},\n",
        "        {\"LOWER\": {\"IN\": [\"renal\", \"cardiac\", \"pulmonary\", \"neuromuscular\", \"auditory\", \"visual\"]}, \"OP\": \"?\"},\n",
        "        {\"LOWER\": {\"IN\": [\"failure\", \"injury\", \"deficiency\", \"dysfunction\", \"toxicity\", \"hypertension\", \"hypotension\", \"dystonia\", \"dyskinesia\", \"disorder\"]}}\n",
        "    ],\n",
        "    [{\"LOWER\": {\"REGEX\": \"^(neuro|cardio|hepato|nephro|pneumo|encephal)[a-z]+$\"}}],\n",
        "]\n",
        "\n",
        "matcher.add(\"DISEASE\", disease_patterns)\n",
        "matcher.add(\"CHEMICAL\", chem_patterns)\n",
        "\n",
        "def annotate_docs_with_rules(docs):\n",
        "    \"\"\"\n",
        "    Applies our rule-based matcher to each document to generate weak labels\n",
        "\n",
        "    Args:\n",
        "        docs (list): List of document dictionaries\n",
        "\n",
        "    Returns:\n",
        "        list: List of document dictionaries with an added key [auto_entities]\n",
        "              with a list of weak entity annotations as tuples (start, end, label).\n",
        "    \"\"\"\n",
        "    annotated_docs = []\n",
        "    for doc in docs:\n",
        "        text = doc[\"text\"]\n",
        "        spacy_doc = nlp(text)\n",
        "        matches = matcher(spacy_doc)\n",
        "        auto_entities = []\n",
        "        for match_id, start, end in matches:\n",
        "            span = spacy_doc[start:end]\n",
        "            label = nlp.vocab.strings[match_id].title()\n",
        "            auto_entities.append((span.start_char, span.end_char, label))\n",
        "        new_doc = doc.copy()\n",
        "        new_doc[\"auto_entities\"] = auto_entities\n",
        "        annotated_docs.append(new_doc)\n",
        "    return annotated_docs\n",
        "\n",
        "# We use a subset of the total data\n",
        "seed_size = int(0.7 * len(train_dev))\n",
        "seed_docs = train_dev[:seed_size]\n",
        "\n",
        "# Apply the rule-based matcher\n",
        "annotated_seed_docs = annotate_docs_with_rules(seed_docs)"
      ]
    },
    {
      "cell_type": "code",
      "source": [
        "# Test print: print sample annotated documents.\n",
        "print(\"\\nSample Annotated Documents from Seed Set:\")\n",
        "num_samples = min(2, len(annotated_seed_docs))\n",
        "for i in range(num_samples):\n",
        "    sample = annotated_seed_docs[i]\n",
        "    print(\"=\" * 40)\n",
        "    print(f\"Document {i+1}:\")\n",
        "    print(\"Text:\", sample[\"text\"])\n",
        "    print(\"Auto Entities:\", sample.get(\"auto_entities\", []))\n"
      ],
      "metadata": {
        "colab": {
          "base_uri": "https://localhost:8080/"
        },
        "id": "Cf7P08r7MuW_",
        "outputId": "42562a87-0bcc-4dfb-c7fc-7ec992a9d324"
      },
      "execution_count": null,
      "outputs": [
        {
          "output_type": "stream",
          "name": "stdout",
          "text": [
            "\n",
            "Sample Annotated Documents from Seed Set:\n",
            "========================================\n",
            "Document 1:\n",
            "Text: Naloxone reverses the antihypertensive effect of clonidine. In unanesthetized, spontaneously hypertensive rats the decrease in blood pressure and heart rate produced by intravenous clonidine, 5 to 20 micrograms/kg, was inhibited or reversed by nalozone, 0.2 to 2 mg/kg. The hypotensive effect of 100 mg/kg alpha-methyldopa was also partially reversed by naloxone. Naloxone alone did not affect either blood pressure or heart rate. In brain membranes from spontaneously hypertensive rats clonidine, 10(-8) to 10(-5) M, did not influence stereoselective binding of [3H]-naloxone (8 nM), and naloxone, 10(-8) to 10(-4) M, did not influence clonidine-suppressible binding of [3H]-dihydroergocryptine (1 nM). These findings indicate that in spontaneously hypertensive rats the effects of central alpha-adrenoceptor stimulation involve activation of opiate receptors. As naloxone and clonidine do not appear to interact with the same receptor site, the observed functional antagonism suggests the release of an endogenous opiate by clonidine or alpha-methyldopa and the possible role of the opiate in the central control of sympathetic tone.\n",
            "Auto Entities: [(0, 8, 'Chemical'), (49, 58, 'Chemical'), (93, 105, 'Disease'), (152, 156, 'Chemical'), (181, 190, 'Chemical'), (244, 252, 'Chemical'), (274, 285, 'Disease'), (312, 322, 'Chemical'), (354, 362, 'Chemical'), (364, 372, 'Chemical'), (373, 378, 'Chemical'), (425, 429, 'Chemical'), (469, 481, 'Disease'), (487, 496, 'Chemical'), (589, 597, 'Chemical'), (637, 646, 'Chemical'), (719, 727, 'Chemical'), (750, 762, 'Disease'), (844, 850, 'Chemical'), (865, 873, 'Chemical'), (878, 887, 'Chemical'), (1016, 1022, 'Chemical'), (1026, 1035, 'Chemical'), (1045, 1055, 'Chemical'), (1085, 1091, 'Chemical'), (1107, 1114, 'Chemical'), (1130, 1134, 'Chemical')]\n",
            "========================================\n",
            "Document 2:\n",
            "Text: Lidocaine-induced cardiac asystole. Intravenous administration of a single 50-mg bolus of lidocaine in a 67-year-old man resulted in profound depression of the activity of the sinoatrial and atrioventricular nodal pacemakers. The patient had no apparent associated conditions which might have predisposed him to the development of bradyarrhythmias; and, thus, this probably represented a true idiosyncrasy to lidocaine.\n",
            "Auto Entities: [(0, 9, 'Chemical'), (18, 34, 'Disease'), (90, 99, 'Chemical'), (409, 418, 'Chemical')]\n"
          ]
        }
      ]
    },
    {
      "cell_type": "markdown",
      "metadata": {
        "id": "bd9XIHGHDfiS"
      },
      "source": [
        "# **NER Model training method**"
      ]
    },
    {
      "cell_type": "code",
      "execution_count": null,
      "metadata": {
        "id": "cKG2d9DaDjC7"
      },
      "outputs": [],
      "source": [
        "def train_ner_model(model, data, n_iter):\n",
        "    \"\"\"\n",
        "    Trains a blank NER model using spaCy with the given data.\n",
        "\n",
        "    Args:\n",
        "        model: The blank spaCy model.\n",
        "        data: List of training examples (dictionaries with \"text\" and \"auto_entities\").\n",
        "        n_iter: Number of training iterations/Epochs.\n",
        "\n",
        "    Returns:\n",
        "        None\n",
        "    \"\"\"\n",
        "    # Add NER component if not present.\n",
        "    if \"ner\" not in model.pipe_names:\n",
        "        ner = model.add_pipe(\"ner\", last=True)\n",
        "    else:\n",
        "        ner = model.get_pipe(\"ner\")\n",
        "\n",
        "    # Add weak labels from the training data.\n",
        "    for doc_data in data:\n",
        "        ents = doc_data.get(\"auto_entities\", [])\n",
        "        for ent in ents:\n",
        "            label = ent[2]\n",
        "            try:\n",
        "                ner.add_label(label)\n",
        "            except Exception:\n",
        "                pass\n",
        "\n",
        "    # Prepare training examples.\n",
        "    training_examples = []\n",
        "    for doc_data in data:\n",
        "        text = doc_data[\"text\"]\n",
        "        raw_ents = doc_data.get(\"auto_entities\", [])\n",
        "        doc = model.make_doc(text)\n",
        "        spans = []\n",
        "        # Convert entities to Span objects.\n",
        "        for ent in raw_ents:\n",
        "            span = doc.char_span(ent[0], ent[1], label=ent[2])\n",
        "            if span is not None:\n",
        "                spans.append(span)\n",
        "        #remove overlapping spans.\n",
        "        filtered_spans = spacy.util.filter_spans(spans)\n",
        "        # Convert filtered spans back to the (start, end, label) format.\n",
        "        annotations = {\"entities\": [(span.start_char, span.end_char, span.label_) for span in filtered_spans]}\n",
        "        # Only add example if there's at least one entity.\n",
        "        if annotations[\"entities\"]:\n",
        "            example = Example.from_dict(doc, annotations)\n",
        "            training_examples.append(example)\n",
        "\n",
        "    # Initialize optimizer.\n",
        "    optimizer = model.begin_training()\n",
        "    for itn in range(n_iter):\n",
        "        random.shuffle(training_examples)\n",
        "        losses = {}\n",
        "        batches = spacy.util.minibatch(training_examples, size=16)\n",
        "        for batch in batches:\n",
        "            model.update(batch, drop=0.2, sgd=optimizer, losses=losses)\n",
        "        print(f\"Iteration {itn+1}: Loss = {losses.get('ner', 0):.4f}\")\n",
        "    print(\"\\n==Model Training Completed==\")\n"
      ]
    },
    {
      "cell_type": "markdown",
      "metadata": {
        "id": "t7bW9bHmhMkd"
      },
      "source": [
        "# **Active Learning with Uncertainty Sampling**"
      ]
    },
    {
      "cell_type": "code",
      "execution_count": null,
      "metadata": {
        "id": "X4xiSqSnJ9ZT"
      },
      "outputs": [],
      "source": [
        "def uncertainty_sampling(model, docs, n_samples, length_constant=200):\n",
        "    \"\"\"\n",
        "    Selects n_samples documents based on model uncertainty.\n",
        "\n",
        "    Args:\n",
        "        model: The spaCy model.\n",
        "        docs: List of document dictionaries (each with a 'text' key).\n",
        "        n_samples: Number of documents to select.\n",
        "        length_constant: Constant to scale uncertainty based on document length.\n",
        "\n",
        "    Returns:\n",
        "        List of document texts with the highest uncertainty.\n",
        "    \"\"\"\n",
        "    scores = []\n",
        "    for doc in docs:\n",
        "        text = doc[\"text\"]\n",
        "        spacy_doc = model(text)\n",
        "        confidences = [ent._.confidence for ent in spacy_doc.ents\n",
        "                       if hasattr(ent._, \"confidence\")]\n",
        "        if confidences:\n",
        "            uncertainty = 1 - max(confidences)\n",
        "        else:\n",
        "            uncertainty = len(text) / (len(text) + length_constant)\n",
        "        scores.append(uncertainty)\n",
        "\n",
        "    indices = np.argsort(scores)[-n_samples:]\n",
        "    return [docs[i][\"text\"] for i in indices]\n",
        "\n",
        "def manual_annotation(text):\n",
        "    \"\"\"\n",
        "    Simulates manual annotation by reapplying the rule-based matcher.\n",
        "\n",
        "    Args:\n",
        "        text: The input text.\n",
        "\n",
        "    Returns:\n",
        "        list: List of dictionaries with \"start\", \"end\", \"label\".\n",
        "    \"\"\"\n",
        "    doc = nlp(text)\n",
        "    matches = matcher(doc)\n",
        "    ann = []\n",
        "    for match_id, start, end in matches:\n",
        "        span = doc[start:end]\n",
        "        label = nlp.vocab.strings[match_id].title()\n",
        "        ann.append({\"start\": span.start_char, \"end\": span.end_char, \"label\": label})\n",
        "    return ann\n",
        "\n",
        "def active_learning_loop(model, labeled_data, full_data, iterations=3, n_samples=5):\n",
        "    \"\"\"\n",
        "    Simple active learning loop to iteratively update the labeled dataset\n",
        "    and retrain the model.\n",
        "\n",
        "    Args:\n",
        "        model: The spaCy model.\n",
        "        labeled_data: The initial labeled set\n",
        "        full_data: The complete set of documents\n",
        "        optimizer: The optimizer.\n",
        "        iterations: Number of active learning iterations.\n",
        "        n_samples: Number of uncertain samples to select per iteration.\n",
        "\n",
        "    Returns:\n",
        "        None\n",
        "    \"\"\"\n",
        "    for i in range(iterations):\n",
        "        print(f\"\\n=== Active Learning Iteration {i+1} ===\")\n",
        "        # Exclude documents already in labeled_data.\n",
        "        already_labeled = {doc[\"text\"] for doc in labeled_data}\n",
        "        candidates = [doc for doc in full_data if doc[\"text\"] not in already_labeled]\n",
        "\n",
        "        # Use uncertainty sampling on remaining candidates.\n",
        "        # selected_texts = uncertainty_sampling(model, candidates, n_samples)\n",
        "        selected_texts = uncertainty_sampling(model, candidates, n_samples)\n",
        "        print(\"Selected uncertain samples for annotation:\")\n",
        "        for text in selected_texts:\n",
        "            print(\"  -\", text[:100] + \"...\")\n",
        "\n",
        "        # manual annotation on selected samples.\n",
        "        new_annotations = []\n",
        "        for doc in candidates:\n",
        "            if doc[\"text\"] in selected_texts:\n",
        "                anns = manual_annotation(doc[\"text\"])\n",
        "                new_annotations.append({\n",
        "                    \"text\": doc[\"text\"],\n",
        "                    \"entities\": [(ann[\"start\"], ann[\"end\"], ann[\"label\"]) for ann in anns]\n",
        "                })\n",
        "\n",
        "        # Add the newly annotated examples to the labeled set.\n",
        "        labeled_data.extend(new_annotations)\n",
        "        print(f\"New annotations added. Total labeled data size: {len(labeled_data)}\")\n",
        "\n",
        "        # Retrain the model on the updated labeled set.\n",
        "        train_ner_model(model, labeled_data, n_iter=10)\n",
        "        model.to_disk(f\"model_iter_{i+1}\")\n",
        "        print(f\"\\nFinished Active Learning Iteration {i+1}\")\n",
        "\n",
        "    print(\"\\nActive Learning Loop Completed\")"
      ]
    },
    {
      "cell_type": "markdown",
      "metadata": {
        "id": "5xCRw-BVEcPg"
      },
      "source": [
        "## **Executing Active Learning Training**"
      ]
    },
    {
      "cell_type": "code",
      "execution_count": null,
      "metadata": {
        "colab": {
          "base_uri": "https://localhost:8080/"
        },
        "id": "mXmDbLDzhcjF",
        "outputId": "ec192e79-a059-44df-afba-0f21f0cbe2bc"
      },
      "outputs": [
        {
          "output_type": "stream",
          "name": "stdout",
          "text": [
            "\n",
            "=== Active Learning Iteration 1 ===\n",
            "Selected uncertain samples for annotation:\n",
            "  - Association of nitric oxide production and apoptosis in a model of experimental nephropathy. BACKGRO...\n",
            "  - Absence of acute cerebral vasoconstriction after cocaine-associated subarachnoid hemorrhage. INTRODU...\n",
            "  - Chemotherapy of advanced inoperable non-small cell lung cancer with paclitaxel: a phase II trial. Pa...\n",
            "  - Reduced cardiotoxicity and preserved antitumor efficacy of liposome-encapsulated doxorubicin and cyc...\n",
            "  - Neuroactive steroids protect against pilocarpine- and kainic acid-induced limbic seizures and status...\n",
            "  - Longitudinal assessment of air conduction audiograms in a phase III clinical trial of difluoromethyl...\n",
            "  - Steroid structure and pharmacological properties determine the anti-amnesic effects of pregnenolone ...\n",
            "  - Dexrazoxane protects against myelosuppression from the DNA cleavage-enhancing drugs etoposide and da...\n",
            "  - Iatrogenic risks of endometrial carcinoma after treatment for breast cancer in a large French case-c...\n",
            "  - Effects of acute steroid administration on ventilatory and peripheral muscles in rats. Occasional ca...\n",
            "  - Delayed-onset heparin-induced thrombocytopenia. BACKGROUND: Heparin-induced thrombocytopenia present...\n",
            "  - Increased expression and apical targeting of renal ENaC subunits in puromycin aminonucleoside-induce...\n",
            "  - A cross-sectional evaluation of the effect of risperidone and selective serotonin reuptake inhibitor...\n",
            "  - Effects of verapamil on atrial fibrillation and its electrophysiological determinants in dogs. BACKG...\n",
            "  - Comparison of aqueous and gellan ophthalmic timolol with placebo on the 24-hour heart rate response ...\n",
            "  - Probing peripheral and central cholinergic system responses. OBJECTIVE: The pharmacological response...\n",
            "  - Prednisolone-induced muscle dysfunction is caused more by atrophy than by altered acetylcholine rece...\n",
            "  - Dexamethasone-induced ocular hypertension in perfusion-cultured human eyes. PURPOSE: Glucocorticoid ...\n",
            "  - Cyclophosphamide-induced cystitis in freely-moving conscious rats: behavioral approach to a new mode...\n",
            "  - Nephrotoxic effects in high-risk patients undergoing angiography. BACKGROUND: The use of iodinated c...\n",
            "  - Impact of alcohol exposure after pregnancy recognition on ultrasonographic fetal growth measures. BA...\n",
            "  - Results of a comparative, phase III, 12-week, multicenter, prospective, randomized, double-blind ass...\n",
            "  - Orthostatic hypotension occurs following alpha 2-adrenoceptor blockade in chronic prazosin-pretreate...\n",
            "  - 22-oxacalcitriol suppresses secondary hyperparathyroidism without inducing low bone turnover in dogs...\n",
            "  - Comparison of developmental toxicology of aspirin (acetylsalicylic acid) in rats using selected dosi...\n",
            "New annotations added. Total labeled data size: 725\n",
            "Iteration 1: Loss = 32064.9459\n",
            "Iteration 2: Loss = 6796.3936\n",
            "Iteration 3: Loss = 3814.2383\n",
            "Iteration 4: Loss = 3046.2015\n",
            "Iteration 5: Loss = 2681.5259\n",
            "Iteration 6: Loss = 2237.3136\n",
            "Iteration 7: Loss = 2133.3297\n",
            "Iteration 8: Loss = 2110.4924\n",
            "Iteration 9: Loss = 2347.1513\n",
            "Iteration 10: Loss = 1996.7340\n",
            "\n",
            "==Model Training Completed==\n",
            "\n",
            "Finished Active Learning Iteration 1\n",
            "\n",
            "=== Active Learning Iteration 2 ===\n",
            "Selected uncertain samples for annotation:\n",
            "  - Effect of lithium maintenance therapy on thyroid and parathyroid function. OBJECTIVES: To assess cha...\n",
            "  - Phase I trial of 13-cis-retinoic acid in children with neuroblastoma following bone marrow transplan...\n",
            "  - Force overflow and levodopa-induced dyskinesias in Parkinson's disease. We assessed force coordinati...\n",
            "  - Hepatotoxicity associated with sulfasalazine in inflammatory arthritis: A case series from a local s...\n",
            "  - Preliminary efficacy assessment of intrathecal injection of an American formulation of adenosine in ...\n",
            "  - Effect of glyceryl trinitrate on the sphincter of Oddi spasm evoked by prostigmine-morphine administ...\n",
            "  - Recent preclinical and clinical studies with the thymidylate synthase inhibitor N10-propargyl-5,8-di...\n",
            "  - Does supplemental vitamin C increase cardiovascular disease risk in women with diabetes? BACKGROUND:...\n",
            "  - Acute blood pressure elevations with caffeine in men with borderline systemic hypertension. Whether ...\n",
            "  - Factors associated with nephrotoxicity and clinical outcome in patients receiving amikacin. Data fro...\n",
            "  - Enhanced stimulus-induced neurotransmitter overflow in epinephrine-induced hypertensive rats is not ...\n",
            "  - The attenuating effect of carteolol hydrochloride, a beta-adrenoceptor antagonist, on neuroleptic-in...\n",
            "  - Nitric oxide synthase expression in the course of lead-induced hypertension. We recently showed elev...\n",
            "  - Prenatal exposure to fluoxetine induces fetal pulmonary hypertension in the rat. RATIONALE: Fluoxeti...\n",
            "  - Cholesteryl hemisuccinate treatment protects rodents from the toxic effects of acetaminophen, adriam...\n",
            "  - Exaggerated expression of inflammatory mediators in vasoactive intestinal polypeptide knockout (VIP-...\n",
            "  - Plasma and urinary lipids and lipoproteins during the development of nephrotic syndrome induced in t...\n",
            "  - Detection of abnormal cardiac adrenergic neuron activity in adriamycin-induced cardiomyopathy with i...\n",
            "  - Valsartan, a new angiotensin II antagonist for the treatment of essential hypertension: a comparativ...\n",
            "  - Effects of the novel compound aniracetam (Ro 13-5057) upon impaired learning and memory in rodents. ...\n",
            "  - Efficacy and tolerability of lovastatin in 3390 women with moderate hypercholesterolemia. OBJECTIVE:...\n",
            "  - Effect of lindane on hepatic and brain cytochrome P450s and influence of P450 modulation in lindane ...\n",
            "  - The protective role of Nrf2 in streptozotocin-induced diabetic nephropathy. OBJECTIVE: Diabetic neph...\n",
            "  - Behavioral effects of MK-801 on reserpine-treated mice. The effects of dizocilpine (MK-801), a nonco...\n",
            "  - Memory function and serotonin transporter promoter gene polymorphism in ecstasy (MDMA) users. Althou...\n",
            "New annotations added. Total labeled data size: 750\n",
            "Iteration 1: Loss = 32389.4196\n",
            "Iteration 2: Loss = 6335.6187\n",
            "Iteration 3: Loss = 4307.7131\n",
            "Iteration 4: Loss = 3164.1299\n",
            "Iteration 5: Loss = 2605.5714\n",
            "Iteration 6: Loss = 2338.5201\n",
            "Iteration 7: Loss = 2092.5640\n",
            "Iteration 8: Loss = 2192.7153\n",
            "Iteration 9: Loss = 3445.8335\n",
            "Iteration 10: Loss = 1998.2879\n",
            "\n",
            "==Model Training Completed==\n",
            "\n",
            "Finished Active Learning Iteration 2\n",
            "\n",
            "=== Active Learning Iteration 3 ===\n",
            "Selected uncertain samples for annotation:\n",
            "  - Tolerability of nimesulide and paracetamol in patients with NSAID-induced urticaria/angioedema. Prev...\n",
            "  - Delayed institution of hypertension during focal cerebral ischemia: effect on brain edema. The effec...\n",
            "  - Carboplatin toxic effects on the peripheral nervous system of the rat. BACKGROUND: The most striking...\n",
            "  - The safety and efficacy of combination N-butyl-deoxynojirimycin (SC-48334) and zidovudine in patient...\n",
            "  - Phlorizin-induced glycosuria does not prevent gentamicin nephrotoxicity in rats. Because rats with s...\n",
            "  - Reduction of pain during induction with target-controlled propofol and remifentanil. BACKGROUND: Pai...\n",
            "  - Sensitivity of erythroid progenitor colonies to erythropoietin in azidothymidine treated immunodefic...\n",
            "  - Effects of nonsteroidal anti-inflammatory drugs on hemostasis in patients with aneurysmal subarachno...\n",
            "  - A novel animal model to evaluate the ability of a drug delivery system to promote the passage throug...\n",
            "  - Neural correlates of S-ketamine induced psychosis during overt continuous verbal fluency. The glutam...\n",
            "  - Preservation of renal blood flow during hypotension induced with fenoldopam in dogs. The introductio...\n",
            "  - High-dose tranexamic Acid is associated with nonischemic clinical seizures in cardiac surgical patie...\n",
            "  - Ocular manifestations of juvenile rheumatoid arthritis. We followed 210 cases of juvenile rheumatoid...\n",
            "  - Serotonin syndrome from venlafaxine-tranylcypromine interaction. Excessive stimulation of serotonin ...\n",
            "  - Treatment of ifosfamide-induced urothelial toxicity by oral administration of sodium 2-mercaptoethan...\n",
            "  - Effects of active constituents of Crocus sativus L., crocin on streptozocin-induced model of sporadi...\n",
            "  - Increased mental slowing associated with the APOE epsilon4 allele after trihexyphenidyl oral anticho...\n",
            "  - Behavioral effects of pubertal anabolic androgenic steroid exposure in male rats with low serotonin....\n",
            "  - Influence of diet free of NAD-precursors on acetaminophen hepatotoxicity in mice. Recently, we demon...\n",
            "  - Syncope and QT prolongation among patients treated with methadone for heroin dependence in the city ...\n",
            "  - Postoperative myalgia after succinylcholine: no evidence for an inflammatory origin. A common side e...\n",
            "  - Nature, time course and dose dependence of zidovudine-related side effects: results from the Multice...\n",
            "  - Adequate timing of ribavirin reduction in patients with hemolysis during combination therapy of inte...\n",
            "  - Debrisoquine phenotype and the pharmacokinetics and beta-2 receptor pharmacodynamics of metoprolol a...\n",
            "  - Dexmedetomidine, acting through central alpha-2 adrenoceptors, prevents opiate-induced muscle rigidi...\n",
            "New annotations added. Total labeled data size: 775\n",
            "Iteration 1: Loss = 31571.6488\n",
            "Iteration 2: Loss = 6079.0688\n",
            "Iteration 3: Loss = 3551.6659\n",
            "Iteration 4: Loss = 2928.1465\n",
            "Iteration 5: Loss = 2375.2515\n",
            "Iteration 6: Loss = 2306.8876\n",
            "Iteration 7: Loss = 2099.5200\n",
            "Iteration 8: Loss = 1919.7334\n",
            "Iteration 9: Loss = 1714.6274\n",
            "Iteration 10: Loss = 1664.6518\n",
            "\n",
            "==Model Training Completed==\n",
            "\n",
            "Finished Active Learning Iteration 3\n",
            "\n",
            "=== Active Learning Iteration 4 ===\n",
            "Selected uncertain samples for annotation:\n",
            "  - Electrocardiographic changes and cardiac arrhythmias in patients receiving psychotropic drugs. Eight...\n",
            "  - A murine model of adenomyosis: the effects of hyperprolactinemia induced by fluoxetine hydrochloride...\n",
            "  - Halogenated anesthetics form liver adducts and antigens that cross-react with halothane-induced anti...\n",
            "  - Lifetime treatment of mice with azidothymidine (AZT) produces myelodysplasia. AZT has induced a macr...\n",
            "  - Urinary enzymes and protein patterns as indicators of injury to different regions of the kidney. Acu...\n",
            "  - Rapid reversal of anticoagulation reduces hemorrhage volume in a mouse model of warfarin-associated ...\n",
            "  - Initial potassium loss and hypokalaemia during chlorthalidone administration in patients with essent...\n",
            "  - The epidemiology of the acute flank pain syndrome from suprofen. Suprofen, a new nonsteroidal anti-i...\n",
            "  - Fluconazole-induced torsade de pointes. OBJECTIVE: To present a case of fluconazole-associated torsa...\n",
            "  - Progestational agents and blood coagulation. VII. Thromboembolic and other complications of oral con...\n",
            "  - A phase I clinical study of the antipurine antifolate lometrexol (DDATHF) given with oral folic acid...\n",
            "  - Dextran-etodolac conjugates: synthesis, in vitro and in vivo evaluation. Etodolac (E), is a non-narc...\n",
            "  - Systemic toxicity and resuscitation in bupivacaine-, levobupivacaine-, or ropivacaine-infused rats. ...\n",
            "  - Long-term efficacy and toxicity of high-dose amiodarone therapy for ventricular tachycardia or ventr...\n",
            "  - Continuous ambulatory ECG monitoring during fluorouracil therapy: a prospective study. Although ther...\n",
            "  - Mice lacking mPGES-1 are resistant to lithium-induced polyuria. Cyclooxygenase-2 activity is require...\n",
            "  - Activation of poly(ADP-ribose) polymerase contributes to development of doxorubicin-induced heart fa...\n",
            "  - 5 flourouracil-induced apical ballooning syndrome: a case report. The apical ballooning syndrome (AB...\n",
            "  - Ketamine in war/tropical surgery (a final tribute to the racemic mixture). A technique of continuous...\n",
            "  - Apomorphine: an underutilized therapy for Parkinson's disease. Apomorphine was the first dopaminergi...\n",
            "  - Ifosfamide continuous infusion without mesna. A phase I trial of a 14-day cycle. Twenty patients rec...\n",
            "  - Time dependence of plasma malondialdehyde, oxypurines, and nucleosides during incomplete cerebral is...\n",
            "  - Effects of the hippocampal deep brain stimulation on cortical epileptic discharges in penicillin - i...\n",
            "  - Effect of intravenous metoprolol or intravenous metoprolol plus glucagon on dobutamine-induced myoca...\n",
            "  - Absence of effect of sertraline on time-based sensitization of cognitive impairment with haloperidol...\n",
            "New annotations added. Total labeled data size: 800\n",
            "Iteration 1: Loss = 29131.9785\n",
            "Iteration 2: Loss = 6041.0953\n",
            "Iteration 3: Loss = 4417.9898\n",
            "Iteration 4: Loss = 3447.1339\n",
            "Iteration 5: Loss = 2650.4808\n",
            "Iteration 6: Loss = 2371.8506\n",
            "Iteration 7: Loss = 2282.8954\n",
            "Iteration 8: Loss = 1978.7595\n",
            "Iteration 9: Loss = 1826.7254\n",
            "Iteration 10: Loss = 1805.1435\n",
            "\n",
            "==Model Training Completed==\n",
            "\n",
            "Finished Active Learning Iteration 4\n",
            "\n",
            "=== Active Learning Iteration 5 ===\n",
            "Selected uncertain samples for annotation:\n",
            "  - A prospective study on the dose dependency of cardiotoxicity induced by mitomycin C. Since 1975 mito...\n",
            "  - The hemodynamics of oxytocin and other vasoactive agents during neuraxial anesthesia for cesarean de...\n",
            "  - Acute renal toxicity of doxorubicin (adriamycin)-loaded cyanoacrylate nanoparticles. Acute doxorubic...\n",
            "  - Chronic carbamazepine inhibits the development of local anesthetic seizures kindled by cocaine and l...\n",
            "  - Use of dexamethasone with mesna for the prevention of ifosfamide-induced hemorrhagic cystitis. AIM: ...\n",
            "  - Nerve growth factor and prostaglandins in the urine of female patients with overactive bladder. PURP...\n",
            "  - Serotonergic drugs, benzodiazepines and baclofen block muscimol-induced myoclonic jerks in a strain ...\n",
            "  - Effects of deliberate hypotension induced by labetalol with isoflurane on neuropsychological functio...\n",
            "  - Antiarrhythmic effects of optical isomers of cibenzoline on canine ventricular arrhythmias. Antiarrh...\n",
            "  - Intraocular pressure in patients with uveitis treated with fluocinolone acetonide implants. OBJECTIV...\n",
            "  - Protective effect of a specific platelet-activating factor antagonist, BN 52021, on bupivacaine-indu...\n",
            "  - Systemic toxicity following administration of sirolimus (formerly rapamycin) for psoriasis: associat...\n",
            "  - Myocardial infarction in pregnancy associated with clomiphene citrate for ovulation induction: a cas...\n",
            "  - A phase II study of thalidomide in advanced metastatic renal cell carcinoma. OBJECTIVES: To evaluate...\n",
            "  - Value of methylprednisolone in prevention of the arthralgia-myalgia syndrome associated with the tot...\n",
            "  - Anti-carcinogenic action of phenobarbital given simultaneously with diethylnitrosamine in the rat. T...\n",
            "  - Transient contralateral rotation following unilateral substantia nigra lesion reflects susceptibilit...\n",
            "  - An evaluation of amikacin nephrotoxicity in the hematology/oncology population. Amikacin is an amino...\n",
            "  - Fear-potentiated startle, but not light-enhanced startle, is enhanced by anxiogenic drugs. RATIONALE...\n",
            "  - Myocardial ischemia due to coronary artery spasm during dobutamine stress echocardiography. Dobutami...\n",
            "  - Benzylacyclouridine reverses azidothymidine-induced marrow suppression without impairment of anti-hu...\n",
            "  - Effect of calcium chloride and 4-aminopyridine therapy on desipramine toxicity in rats. BACKGROUND: ...\n",
            "  - Sustained clinical improvement of a patient with decompensated hepatitis B virus-related cirrhosis a...\n",
            "  - Erythropoietin restores the anemia-induced reduction in cyclophosphamide cytotoxicity in rat tumors....\n",
            "  - Risk for valvular heart disease among users of fenfluramine and dexfenfluramine who underwent echoca...\n",
            "New annotations added. Total labeled data size: 825\n",
            "Iteration 1: Loss = 28639.6726\n",
            "Iteration 2: Loss = 6148.5212\n",
            "Iteration 3: Loss = 3933.0343\n",
            "Iteration 4: Loss = 3422.4377\n",
            "Iteration 5: Loss = 2606.6425\n",
            "Iteration 6: Loss = 2441.4287\n",
            "Iteration 7: Loss = 2378.1606\n",
            "Iteration 8: Loss = 1959.0116\n",
            "Iteration 9: Loss = 1995.1075\n",
            "Iteration 10: Loss = 1896.8607\n",
            "\n",
            "==Model Training Completed==\n",
            "\n",
            "Finished Active Learning Iteration 5\n",
            "\n",
            "=== Active Learning Iteration 6 ===\n",
            "Selected uncertain samples for annotation:\n",
            "  - Type B hepatitis after needle-stick exposure: prevention with hepatitis B immune globulin. Final rep...\n",
            "  - Absolute and attributable risk of venous thromboembolism in women on combined cyproterone acetate an...\n",
            "  - Effect of calcium chloride on gross behavioural changes produced by carbachol and eserine in cats. T...\n",
            "  - Effect of alpha-tocopherol and deferoxamine on methamphetamine-induced neurotoxicity. Methamphetamin...\n",
            "  - Does hormone therapy for the treatment of breast cancer have a detrimental effect on memory and cogn...\n",
            "  - Proteinase 3-antineutrophil cytoplasmic antibody-(PR3-ANCA) positive necrotizing glomerulonephritis ...\n",
            "  - A dystonia-like syndrome after neuropeptide (MSH/ACTH) stimulation of the rat locus ceruleus. The mo...\n",
            "  - Induction by paracetamol of bladder and liver tumours in the rat. Effects on hepatocyte fine structu...\n",
            "  - The ability of insulin treatment to reverse or prevent the changes in urinary bladder function cause...\n",
            "  - Dopamine is not essential for the development of methamphetamine-induced neurotoxicity. It is widely...\n",
            "  - Neutrophil superoxide and hydrogen peroxide production in patients with acute liver failure. Defects...\n",
            "  - Long-term effects of vincristine on the peripheral nervous system. Forty patients with Non-Hodgkin's...\n",
            "  - Doxorubicin cardiomyopathy-induced inflammation and apoptosis are attenuated by gene deletion of the...\n",
            "  - DSMM XI study: dose definition for intravenous cyclophosphamide in combination with bortezomib/dexam...\n",
            "  - Subjective assessment of sexual dysfunction of patients on long-term administration of digoxin. Vari...\n",
            "  - Effects of UMB24 and (+/-)-SM 21, putative sigma2-preferring antagonists, on behavioral toxic and st...\n",
            "  - Intracavitary chemotherapy (paclitaxel/carboplatin liquid crystalline cubic phases) for recurrent gl...\n",
            "  - Peripheral neuropathy caused by high-dose cytosine arabinoside treatment in a patient with acute mye...\n",
            "  - Hallucinations and ifosfamide-induced neurotoxicity. BACKGROUND: Hallucinations as a symptom of cent...\n",
            "  - Experimental cranial pain elicited by capsaicin: a PET study. Using a positron emission tomography (...\n",
            "  - Dynamic response of blood vessel in acute renal failure. In this study we postulated that during acu...\n",
            "  - Calcitonin gene-related peptide levels during nitric oxide-induced headache in patients with chronic...\n",
            "  - Urinary symptoms and quality of life changes in Thai women with overactive bladder after tolterodine...\n",
            "  - Pallidal stimulation: an alternative to pallidotomy? A resurgence of interest in the surgical treatm...\n",
            "  - Contribution of the glycine site of NMDA receptors in rostral and intermediate-caudal parts of the s...\n",
            "New annotations added. Total labeled data size: 850\n",
            "Iteration 1: Loss = 30135.7382\n",
            "Iteration 2: Loss = 6874.4394\n",
            "Iteration 3: Loss = 4352.2478\n",
            "Iteration 4: Loss = 3395.9670\n",
            "Iteration 5: Loss = 3296.2578\n",
            "Iteration 6: Loss = 3237.6462\n",
            "Iteration 7: Loss = 2231.6151\n",
            "Iteration 8: Loss = 2028.7244\n",
            "Iteration 9: Loss = 1865.7431\n",
            "Iteration 10: Loss = 1855.4139\n",
            "\n",
            "==Model Training Completed==\n",
            "\n",
            "Finished Active Learning Iteration 6\n",
            "\n",
            "=== Active Learning Iteration 7 ===\n",
            "Selected uncertain samples for annotation:\n",
            "  - Long-term lithium treatment and the kidney. Interim report on fifty patients. This is a report on th...\n",
            "  - Severe congestive heart failure patient on amiodarone presenting with myxedemic coma: a case report....\n",
            "  - Cognitive deterioration from long-term abuse of dextromethorphan: a case report. Dextromethorphan (D...\n",
            "  - Involvement of the mu-opiate receptor in peripheral analgesia. The intradermal injection of mu (morp...\n",
            "  - Atorvastatin prevented and reversed dexamethasone-induced hypertension in the rat. To assess the ant...\n",
            "  - Auditory disturbance associated with interscalene brachial plexus block. We performed an audiometric...\n",
            "  - The striatum as a target for anti-rigor effects of an antagonist of mGluR1, but not an agonist of gr...\n",
            "  - Hepatonecrosis and cholangitis related to long-term phenobarbital therapy: an autopsy report of two ...\n",
            "  - Diazepam facilitates reflex bradycardia in conscious rats. The effects of diazepam on cardiovascular...\n",
            "  - Cutaneous leucocytoclastic vasculitis associated with oxacillin. A 67-year-old man who was treated w...\n",
            "  - Water intoxication associated with oxytocin administration during saline-induced abortion. Four case...\n",
            "  - Renal function and hemodynamics during prolonged isoflurane-induced hypotension in humans. The effec...\n",
            "  - Amisulpride related tic-like symptoms in an adolescent schizophrenic. Tic disorders can be effective...\n",
            "  - Fatal excited delirium following cocaine use: epidemiologic findings provide new evidence for mechan...\n",
            "  - Cortical motor overactivation in parkinsonian patients with L-dopa-induced peak-dose dyskinesia. We ...\n",
            "  - Cardiac transplantation: improved quality of survival with a modified immunosuppressive protocol. Th...\n",
            "  - Changes in peroxisomes in preneoplastic liver and hepatoma of mice induced by alpha-benzene hexachlo...\n",
            "  - Hypotension, bradycardia, and asystole after high-dose intravenous methylprednisolone in a monitored...\n",
            "  - D-penicillamine in the treatment of localized scleroderma. Localized scleroderma has no recognized i...\n",
            "  - Antiarrhythmic plasma concentrations of cibenzoline on canine ventricular arrhythmias. Using two-sta...\n",
            "  - Effects of NIK-247 on cholinesterase and scopolamine-induced amnesia. The effects of NIK-247 on chol...\n",
            "  - The antiarrhythmic effect and possible ionic mechanisms of pilocarpine on animal models. This study ...\n",
            "  - CCNU (lomustine) toxicity in dogs: a retrospective study (2002-07). OBJECTIVE: To describe the incid...\n",
            "  - Ethambutol-associated optic neuropathy. INTRODUCTION: Ethambutol is used in the treatment of tubercu...\n",
            "  - Effect of Hibiscus rosa sinensis on reserpine-induced neurobehavioral and biochemical alterations in...\n",
            "New annotations added. Total labeled data size: 875\n",
            "Iteration 1: Loss = 29325.4387\n",
            "Iteration 2: Loss = 6075.2924\n",
            "Iteration 3: Loss = 4061.1718\n",
            "Iteration 4: Loss = 3148.4050\n",
            "Iteration 5: Loss = 2492.6187\n",
            "Iteration 6: Loss = 2405.9461\n",
            "Iteration 7: Loss = 2746.3982\n",
            "Iteration 8: Loss = 2031.7188\n",
            "Iteration 9: Loss = 2006.7719\n",
            "Iteration 10: Loss = 1809.7285\n",
            "\n",
            "==Model Training Completed==\n",
            "\n",
            "Finished Active Learning Iteration 7\n",
            "\n",
            "Active Learning Loop Completed\n"
          ]
        }
      ],
      "source": [
        "nlp.initialize()\n",
        "active_learning_loop(nlp, annotated_seed_docs, train_dev, iterations=7, n_samples=25)"
      ]
    },
    {
      "cell_type": "markdown",
      "metadata": {
        "id": "cSEZhL0bEh6k"
      },
      "source": [
        "# **Evaluating the NER Model Performance**"
      ]
    },
    {
      "cell_type": "code",
      "execution_count": null,
      "metadata": {
        "id": "MV56zohjEn9d"
      },
      "outputs": [],
      "source": [
        "def evaluate_model(model, test_data):\n",
        "    \"\"\"\n",
        "    Evaluates the trained NER model on test data using micro-averaged metrics.\n",
        "\n",
        "    Args:\n",
        "        model: The trained spaCy model.\n",
        "        test_data: List of test document dictionaries with \"text\" and \"entities\".\n",
        "\n",
        "    Returns:\n",
        "        tuple: (Precision, Recall, F1-score)\n",
        "    \"\"\"\n",
        "    y_true, y_pred = [], []\n",
        "    for doc_data in test_data:\n",
        "        text = doc_data[\"text\"]\n",
        "        gold = set(doc_data[\"entities\"])\n",
        "        doc = model(text)\n",
        "        pred = set([(ent.start_char, ent.end_char, ent.label_) for ent in doc.ents])\n",
        "\n",
        "        all_labels = set([e[2] for e in gold]).union(set([e[2] for e in pred]))\n",
        "        for label in all_labels:\n",
        "            tp = len([e for e in gold if e in pred and e[2] == label])\n",
        "            fp = len([e for e in pred if e not in gold and e[2] == label])\n",
        "            fn = len([e for e in gold if e not in pred and e[2] == label])\n",
        "            y_true.extend([label] * tp)\n",
        "            y_pred.extend([label] * tp)\n",
        "            y_true.extend([label] * fn)\n",
        "            y_pred.extend([\"O\"] * fn)\n",
        "            y_true.extend([\"O\"] * fp)\n",
        "            y_pred.extend([label] * fp)\n",
        "\n",
        "    precision, recall, f1, _ = precision_recall_fscore_support(\n",
        "        y_true, y_pred, average=\"micro\", labels=list(set(y_true) - {\"O\"})\n",
        "    )\n",
        "    print(f\"\\n=== Evaluation on Test Set ===\")\n",
        "    print(f\"Precision: {precision:.4f}, Recall: {recall:.4f}, F1-Score: {f1:.4f}\")\n",
        "    return precision, recall, f1"
      ]
    },
    {
      "cell_type": "markdown",
      "metadata": {
        "id": "RPWenUBSkscs"
      },
      "source": [
        "# Execution"
      ]
    },
    {
      "cell_type": "code",
      "source": [
        "# Prepare test data.\n",
        "TEST_DATA = [{\"text\": doc[\"text\"], \"entities\": doc[\"entities\"]} for doc in test]\n",
        "evaluate_model(nlp, TEST_DATA)"
      ],
      "metadata": {
        "colab": {
          "base_uri": "https://localhost:8080/"
        },
        "id": "livun8hcSyfg",
        "outputId": "33d86885-5057-4ebb-ba1b-b79384793517"
      },
      "execution_count": null,
      "outputs": [
        {
          "output_type": "stream",
          "name": "stdout",
          "text": [
            "\n",
            "=== Evaluation on Test Set ===\n",
            "Precision: 0.5819, Recall: 0.3580, F1-Score: 0.4433\n"
          ]
        },
        {
          "output_type": "execute_result",
          "data": {
            "text/plain": [
              "(0.5819386909693455, 0.35803853603833213, 0.4433223933350164)"
            ]
          },
          "metadata": {},
          "execution_count": 12
        }
      ]
    }
  ],
  "metadata": {
    "colab": {
      "provenance": [],
      "gpuType": "T4"
    },
    "kernelspec": {
      "display_name": "Python 3",
      "name": "python3"
    },
    "language_info": {
      "name": "python"
    },
    "accelerator": "GPU"
  },
  "nbformat": 4,
  "nbformat_minor": 0
}